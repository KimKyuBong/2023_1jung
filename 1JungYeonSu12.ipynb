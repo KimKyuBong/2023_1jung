{
 "cells": [
  {
   "cell_type": "code",
   "execution_count": 1,
   "metadata": {},
   "outputs": [
    {
     "name": "stdout",
     "output_type": "stream",
     "text": [
      "Requirement already satisfied: python2algeomath==0.0.8 in c:\\users\\noname\\appdata\\local\\programs\\python\\python312-32\\lib\\site-packages (0.0.8)\n",
      "Requirement already satisfied: sympy in c:\\users\\noname\\appdata\\local\\programs\\python\\python312-32\\lib\\site-packages (1.12)\n",
      "Requirement already satisfied: mpmath>=0.19 in c:\\users\\noname\\appdata\\local\\programs\\python\\python312-32\\lib\\site-packages (from sympy) (1.3.0)\n"
     ]
    },
    {
     "name": "stderr",
     "output_type": "stream",
     "text": [
      "\n",
      "[notice] A new release of pip is available: 23.2.1 -> 23.3.1\n",
      "[notice] To update, run: python.exe -m pip install --upgrade pip\n"
     ]
    }
   ],
   "source": [
    "!pip install python2algeomath==0.0.8 sympy"
   ]
  },
  {
   "cell_type": "code",
   "execution_count": 2,
   "metadata": {},
   "outputs": [],
   "source": [
    "# 초기화 부분\n",
    "\n",
    "import sympy as sp\n",
    "import random as rd\n",
    "from python2algeomath import Builder\n"
   ]
  },
  {
   "cell_type": "code",
   "execution_count": 9,
   "metadata": {},
   "outputs": [],
   "source": [
    "builder1 = Builder()\n",
    "builder1.init_variable([\"x\", \"y\", \"a\", \"i\", \"t\"])\n",
    "\n",
    "# 점 추가하기 (x, y, 이름)\n",
    "points = [(1, 2, \"D1\"), (3, 4, \"D2\"), (-1, 4, \"D3\"), (1, -3, \"D4\")]\n",
    "polyList = []\n",
    "for x, y, name in points:\n",
    "  builder1.add_dot_block(x, y, f'\"{name}\"')\n",
    "  polyList.append(name)\n",
    "\n",
    "# # 반복문으로 선분 추가하기\n",
    "# builder1.start_control_for(\"i\", 1, 4, 1) # 변수, 시작, 끝, 스텝 순으로 입력\n",
    "# builder1.add_two_point_block('\"D\"+i', '\"D\"+(i+1)', '\"L\"+i')\n",
    "# builder1.end_control_for()\n",
    "\n",
    "\n",
    "# 사실 polygon을 추가하는게 낫다.\n",
    "\n",
    "\n",
    "polygonStr = ','.join(polyList)\n",
    "builder1.execute_set('\"dotPoly\"', f'\"Polygon({polygonStr})\"')"
   ]
  },
  {
   "cell_type": "code",
   "execution_count": 10,
   "metadata": {},
   "outputs": [
    {
     "name": "stdout",
     "output_type": "stream",
     "text": [
      "<xml xmlns=\"https://developers.google.com/blockly/xml\"><variables><variable id=\"0.5138566708743165\">x</variable><variable id=\"0.577630560968379\">y</variable><variable id=\"0.6056344879205083\">a</variable><variable id=\"0.8161365961386118\">i</variable><variable id=\"0.7730950502137289\">t</variable></variables><block type=\"algeo_start\" id=\"0.7248263922037702\" x=\"90\" y=\"50\"><field name=\"state\">START</field><next><block type=\"algeo_create_point\" id=\"0.657183102531184\"><value name=\"x\"><block type=\"basic_input_value\" id=\"0.864631235500813\"><field name=\"value\">1</field></block></value><value name=\"y\"><block type=\"basic_input_value\" id=\"0.025837690001663915\"><field name=\"value\">2</field></block></value><value name=\"name\"><block type=\"basic_input_value\" id=\"0.8995868271461618\"><field name=\"value\">\"D1\"</field></block></value><next><block type=\"algeo_create_point\" id=\"0.0717075342496355\"><value name=\"x\"><block type=\"basic_input_value\" id=\"0.5682837819412038\"><field name=\"value\">3</field></block></value><value name=\"y\"><block type=\"basic_input_value\" id=\"0.28446224481479654\"><field name=\"value\">4</field></block></value><value name=\"name\"><block type=\"basic_input_value\" id=\"0.11089347112035264\"><field name=\"value\">\"D2\"</field></block></value><next><block type=\"algeo_create_point\" id=\"0.9488022686271459\"><value name=\"x\"><block type=\"basic_input_value\" id=\"0.22450048898035602\"><field name=\"value\">-1</field></block></value><value name=\"y\"><block type=\"basic_input_value\" id=\"0.18052700141635603\"><field name=\"value\">4</field></block></value><value name=\"name\"><block type=\"basic_input_value\" id=\"0.9445768389610234\"><field name=\"value\">\"D3\"</field></block></value><next><block type=\"algeo_create_point\" id=\"0.9356430691276617\"><value name=\"x\"><block type=\"basic_input_value\" id=\"0.9984353003531573\"><field name=\"value\">1</field></block></value><value name=\"y\"><block type=\"basic_input_value\" id=\"0.34923626886213666\"><field name=\"value\">-3</field></block></value><value name=\"name\"><block type=\"basic_input_value\" id=\"0.8018477016223283\"><field name=\"value\">\"D4\"</field></block></value><next><block type=\"algeo_execute_set_name\" id=\"0.5210314833003643\"><value name=\"name\"><block type=\"basic_input_value\" id=\"0.23822531964465588\"><field name=\"value\">\"dotPoly\"</field></block></value><value name=\"code\"><block type=\"basic_input_value\" id=\"0.7937068936361257\"><field name=\"value\">\"Polygon(D1,D2,D3,D4)\"</field></block></value><next /></block></next></block></next></block></next></block></next></block></next></block></xml>\n"
     ]
    }
   ],
   "source": [
    "# 코드 출력1\n",
    "\n",
    "xml_string = builder1.to_xml_string()\n",
    "print(xml_string.decode())\n"
   ]
  },
  {
   "cell_type": "code",
   "execution_count": 5,
   "metadata": {},
   "outputs": [],
   "source": [
    "builder2 = Builder()\n",
    "# 초기화 부분\n",
    "\n",
    "builder2.init_variable([\"x\", \"y\", \"a\", \"i\", \"t\"])\n",
    "\n",
    "\n",
    "x, y, t = sp.symbols(\"x y t\")\n",
    "\n",
    "\n",
    "# f 함수와 g함수 작성\n",
    "f = x**2 + 2 * x + 1\n",
    "g = 2 * x\n",
    "\n",
    "# 일단 함수 그려보기\n",
    "builder2.add_function_graph(\"f\", sp.latex(f))\n",
    "builder2.add_function_graph(\"g\", sp.latex(g))\n",
    "# 1부터 2까지 10개로 쪼갬\n",
    "# n = 10\n",
    "# x_list = np.linspace(0, 2, n)\n",
    "# # (x, f(x))와 (x, g(x))를 30개 찍음\n",
    "# for i, t in enumerate(x_list):\n",
    "#   builder.add_dot_block(t, f.subs(x, t), f\"F{i}\")\n",
    "#   builder.add_dot_block(t, g.subs(x, t), f\"G{i}\")\n",
    "\n",
    "a, b, n = (0, 1, 20)\n",
    "\n",
    "xstep = (b - a) / n\n",
    "# a이상 b미만, n개로\n",
    "# 위 방식을 블록 코딩 내의 포문으로 대체해볼까?\n",
    "builder2.start_control_for(\"t\", 0, n, 1)\n",
    "# function_dot 은 위에서 function을 선어\n",
    "builder2.add_function_dot('\"F\"+t', f\"{a}+t*{xstep}\", \"f\")\n",
    "builder2.add_function_dot('\"G\"+t', f\"{a}+t*{xstep}\", \"g\")\n",
    "builder2.end_control_for()\n",
    "\n",
    "# 이들을 모두 이은 다각형 생성\n",
    "# 순서대로 이을 목록 생성\n",
    "polygon_list = []\n",
    "\n",
    "# F0, F1, ... F29추가\n",
    "for i in range(n + 1):\n",
    "    polygon_list.append(f\"F{i}\")\n",
    "# G29, G28, ... G1, G0 추가\n",
    "for i in range(n + 1):\n",
    "    polygon_list.append(f\"G{n-i}\")\n",
    "# 쉼표로 구분되는 문자열로 변환\n",
    "polygonStr = \",\".join(polygon_list)\n",
    "\n",
    "# 다각형 생성\n",
    "builder2.execute_set('\"FuncPoly\"', f'\"Polygon({polygonStr})\"')\n",
    "\n",
    "# 점 과 그 이름 모두 감추기\n",
    "builder2.hide_point()"
   ]
  },
  {
   "cell_type": "code",
   "execution_count": 6,
   "metadata": {},
   "outputs": [
    {
     "name": "stdout",
     "output_type": "stream",
     "text": [
      "<xml xmlns=\"https://developers.google.com/blockly/xml\"><variables><variable id=\"0.4814333163126222\">x</variable><variable id=\"0.8451815207319492\">y</variable><variable id=\"0.850751807417568\">a</variable><variable id=\"0.967741110162169\">i</variable><variable id=\"0.9808391002023772\">t</variable></variables><block type=\"algeo_start\" id=\"0.60035445295383\" x=\"90\" y=\"50\"><field name=\"state\">START</field><next><block type=\"algeo_execute_set_name\" id=\"0.49892105271761855\"><value name=\"name\"><block type=\"basic_input_value\" id=\"0.9652222156912431\"><field name=\"value\">\"f\"</field></block></value><value name=\"code\"><block type=\"basic_input_value\" id=\"0.9224255863859131\"><field name=\"value\">\"f(x)=x^{2} + 2 x + 1\"</field></block></value><next><block type=\"algeo_execute_set_name\" id=\"0.943721717262442\"><value name=\"name\"><block type=\"basic_input_value\" id=\"0.5853340679437412\"><field name=\"value\">\"g\"</field></block></value><value name=\"code\"><block type=\"basic_input_value\" id=\"0.8754946019256632\"><field name=\"value\">\"g(x)=2 x\"</field></block></value><next><block type=\"control_for\" id=\"0.44486237393572625\"><value name=\"initial\"><block type=\"basic_input_value\" id=\"0.49843058276399876\"><field name=\"value\">t = 0</field></block></value><value name=\"end\"><block type=\"basic_input_value\" id=\"0.48674699410879074\"><field name=\"value\">t &lt;= 20</field></block></value><value name=\"step\"><block type=\"basic_input_value\" id=\"0.7291053886860288\"><field name=\"value\">t += 1</field></block></value><statement name=\"statements\"><block type=\"algeo_execute_set_name\" id=\"0.8892225165045065\"><value name=\"name\"><block type=\"basic_input_value\" id=\"0.06898633290102552\"><field name=\"value\">\"F\"+t</field></block></value><value name=\"code\"><block type=\"basic_input_value\" id=\"0.5338344517598167\"><field name=\"value\">\"(\"+(0+t*0.05)+\",f(\"+(0+t*0.05)+\"))\"</field></block></value><next><block type=\"algeo_execute_set_name\" id=\"0.9465099118283721\"><value name=\"name\"><block type=\"basic_input_value\" id=\"0.443801952313191\"><field name=\"value\">\"G\"+t</field></block></value><value name=\"code\"><block type=\"basic_input_value\" id=\"0.6785140411838204\"><field name=\"value\">\"(\"+(0+t*0.05)+\",g(\"+(0+t*0.05)+\"))\"</field></block></value><next /></block></next></block></statement><next><block type=\"algeo_execute_set_name\" id=\"0.3710276136644365\"><value name=\"name\"><block type=\"basic_input_value\" id=\"0.7479042771784039\"><field name=\"value\">\"FuncPoly\"</field></block></value><value name=\"code\"><block type=\"basic_input_value\" id=\"0.6551551016391164\"><field name=\"value\">\"Polygon(F0,F1,F2,F3,F4,F5,F6,F7,F8,F9,F10,F11,F12,F13,F14,F15,F16,F17,F18,F19,F20,G20,G19,G18,G17,G16,G15,G14,G13,G12,G11,G10,G9,G8,G7,G6,G5,G4,G3,G2,G1,G0)\"</field></block></value><next><block type=\"turtle_all_dot_name_show_hide\" id=\"0.5197281754474294\"><field name=\"fielditem_object\">점과 점의 이름</field><field name=\"fielditem_object\">감추기</field></block><next /></next></block></next></block></next></block></next></block></next></block></xml>\n"
     ]
    }
   ],
   "source": [
    "# 코드 출력2\n",
    "\n",
    "xml_string = builder2.to_xml_string()\n",
    "print(xml_string.decode())\n"
   ]
  }
 ],
 "metadata": {
  "kernelspec": {
   "display_name": "Python 3",
   "language": "python",
   "name": "python3"
  },
  "language_info": {
   "codemirror_mode": {
    "name": "ipython",
    "version": 3
   },
   "file_extension": ".py",
   "mimetype": "text/x-python",
   "name": "python",
   "nbconvert_exporter": "python",
   "pygments_lexer": "ipython3",
   "version": "3.12.0"
  }
 },
 "nbformat": 4,
 "nbformat_minor": 2
}
