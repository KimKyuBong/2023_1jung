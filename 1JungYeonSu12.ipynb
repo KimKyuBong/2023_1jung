{
 "cells": [
  {
   "cell_type": "code",
   "execution_count": 1,
   "metadata": {},
   "outputs": [
    {
     "name": "stdout",
     "output_type": "stream",
     "text": [
      "test\n"
     ]
    }
   ],
   "source": [
    "from python2algeomath import AlgeoMathBlockBuilder\n",
    "\n",
    "# 한번 만들어본 알지오매스 호환 xml코드 빌더\n",
    "builder = AlgeoMathBlockBuilder()\n",
    "\n",
    "# 초기 변수 선언\n",
    "builder.init_variable([\"x\", \"y\", \"k\", \"n\", \"i\"])\n",
    "\n",
    "# 점 추가하기 (x, y, 이름)\n",
    "points = [(1, 2, \"D1\"), (3, 4, \"D2\"), (-1, 4, \"D3\"), (1, 2, \"D4\")]\n",
    "for x, y, name in points:\n",
    "  builder.add_dot_block(x, y, name)\n",
    "\n",
    "\n",
    "# 반복문으로 선분 추가하기\n",
    "builder.start_control_for(\"i\", 1, 4, 1) # 변수, 시작, 끝, 스텝 순으로 입력\n",
    "builder.add_two_point_block('\"D\"+i', '\"D\"+(i+1)', '\"L\"+i')\n",
    "builder.end_control_for()\n",
    "\n"
   ]
  },
  {
   "cell_type": "code",
   "execution_count": 7,
   "metadata": {},
   "outputs": [
    {
     "name": "stdout",
     "output_type": "stream",
     "text": [
      "<xml xmlns=\"https://developers.google.com/blockly/xml\"><variables><variable id=\"0.12740513060723413\">x</variable><variable id=\"0.3933314547373242\">y</variable><variable id=\"0.6246054785172397\">a</variable><variable id=\"0.19659818088125347\">i</variable></variables><block type=\"algeo_start\" id=\"0.11409823113949724\" x=\"90\" y=\"50\"><field name=\"state\">START</field><next><block type=\"create_function_fx\" id=\"0.3274738232659007\"><value name=\"xValue\"><block type=\"basic_input_value\" id=\"0.10645566722349753\"><field name=\"value\">\"x^{2} + 2 x + 1\"</field></block></value><next><block type=\"create_function_fx\" id=\"0.03414893552264919\"><value name=\"xValue\"><block type=\"basic_input_value\" id=\"0.4242554962530467\"><field name=\"value\">\"2^{x}\"</field></block></value><next><block type=\"algeo_create_point\" id=\"0.43046203651948245\"><value name=\"x\"><block type=\"basic_input_value\" id=\"0.39530506370669805\"><field name=\"value\">0.0</field></block></value><value name=\"y\"><block type=\"basic_input_value\" id=\"0.8306504287392593\"><field name=\"value\">1</field></block></value><value name=\"name\"><block type=\"basic_input_value\" id=\"0.9392882566464852\"><field name=\"value\">\"F0\"</field></block></value><next><block type=\"algeo_create_point\" id=\"0.06275602174338868\"><value name=\"x\"><block type=\"basic_input_value\" id=\"0.27563685588545583\"><field name=\"value\">0.0</field></block></value><value name=\"y\"><block type=\"basic_input_value\" id=\"0.7841206146502805\"><field name=\"value\">1.00000000000000</field></block></value><value name=\"name\"><block type=\"basic_input_value\" id=\"0.5601269715308276\"><field name=\"value\">\"G0\"</field></block></value><next><block type=\"algeo_create_point\" id=\"0.7522418703241085\"><value name=\"x\"><block type=\"basic_input_value\" id=\"0.5724387382266496\"><field name=\"value\">0.2222222222222222</field></block></value><value name=\"y\"><block type=\"basic_input_value\" id=\"0.5818314304199702\"><field name=\"value\">1.49382716049383</field></block></value><value name=\"name\"><block type=\"basic_input_value\" id=\"0.5878763367800092\"><field name=\"value\">\"F1\"</field></block></value><next><block type=\"algeo_create_point\" id=\"0.4625818865157698\"><value name=\"x\"><block type=\"basic_input_value\" id=\"0.3408108527334821\"><field name=\"value\">0.2222222222222222</field></block></value><value name=\"y\"><block type=\"basic_input_value\" id=\"0.5839435235633492\"><field name=\"value\">1.16652903957612</field></block></value><value name=\"name\"><block type=\"basic_input_value\" id=\"0.8583870012848714\"><field name=\"value\">\"G1\"</field></block></value><next><block type=\"algeo_create_point\" id=\"0.5043567837153756\"><value name=\"x\"><block type=\"basic_input_value\" id=\"0.605892341997359\"><field name=\"value\">0.4444444444444444</field></block></value><value name=\"y\"><block type=\"basic_input_value\" id=\"0.168842329809336\"><field name=\"value\">2.08641975308642</field></block></value><value name=\"name\"><block type=\"basic_input_value\" id=\"0.29643361214440567\"><field name=\"value\">\"F2\"</field></block></value><next><block type=\"algeo_create_point\" id=\"0.3711482094095019\"><value name=\"x\"><block type=\"basic_input_value\" id=\"0.8358622205686276\"><field name=\"value\">0.4444444444444444</field></block></value><value name=\"y\"><block type=\"basic_input_value\" id=\"0.5453720669008222\"><field name=\"value\">1.36079000017438</field></block></value><value name=\"name\"><block type=\"basic_input_value\" id=\"0.8519669262990737\"><field name=\"value\">\"G2\"</field></block></value><next><block type=\"algeo_create_point\" id=\"0.7296842292280209\"><value name=\"x\"><block type=\"basic_input_value\" id=\"0.6842880596355441\"><field name=\"value\">0.6666666666666666</field></block></value><value name=\"y\"><block type=\"basic_input_value\" id=\"0.6557860014085136\"><field name=\"value\">2.77777777777778</field></block></value><value name=\"name\"><block type=\"basic_input_value\" id=\"0.13504156716573246\"><field name=\"value\">\"F3\"</field></block></value><next><block type=\"algeo_create_point\" id=\"0.16169749261611233\"><value name=\"x\"><block type=\"basic_input_value\" id=\"0.9751586265011182\"><field name=\"value\">0.6666666666666666</field></block></value><value name=\"y\"><block type=\"basic_input_value\" id=\"0.27247782747027405\"><field name=\"value\">1.58740105196820</field></block></value><value name=\"name\"><block type=\"basic_input_value\" id=\"0.38622802953357993\"><field name=\"value\">\"G3\"</field></block></value><next><block type=\"algeo_create_point\" id=\"0.17977285500466134\"><value name=\"x\"><block type=\"basic_input_value\" id=\"0.009110022646088733\"><field name=\"value\">0.8888888888888888</field></block></value><value name=\"y\"><block type=\"basic_input_value\" id=\"0.758356023357185\"><field name=\"value\">3.56790123456790</field></block></value><value name=\"name\"><block type=\"basic_input_value\" id=\"0.5714299168146432\"><field name=\"value\">\"F4\"</field></block></value><next><block type=\"algeo_create_point\" id=\"0.01068258399173172\"><value name=\"x\"><block type=\"basic_input_value\" id=\"0.10883684253171799\"><field name=\"value\">0.8888888888888888</field></block></value><value name=\"y\"><block type=\"basic_input_value\" id=\"0.3069198128941286\"><field name=\"value\">1.85174942457458</field></block></value><value name=\"name\"><block type=\"basic_input_value\" id=\"0.6878386750083054\"><field name=\"value\">\"G4\"</field></block></value><next><block type=\"algeo_create_point\" id=\"0.25529127932174456\"><value name=\"x\"><block type=\"basic_input_value\" id=\"0.5125745055381734\"><field name=\"value\">1.1111111111111112</field></block></value><value name=\"y\"><block type=\"basic_input_value\" id=\"0.16308145090495574\"><field name=\"value\">4.45679012345679</field></block></value><value name=\"name\"><block type=\"basic_input_value\" id=\"0.7638571038676557\"><field name=\"value\">\"F5\"</field></block></value><next><block type=\"algeo_create_point\" id=\"0.2419531992713131\"><value name=\"x\"><block type=\"basic_input_value\" id=\"0.7723985346663049\"><field name=\"value\">1.1111111111111112</field></block></value><value name=\"y\"><block type=\"basic_input_value\" id=\"0.3497757449484198\"><field name=\"value\">2.16011947778461</field></block></value><value name=\"name\"><block type=\"basic_input_value\" id=\"0.6021211183191134\"><field name=\"value\">\"G5\"</field></block></value><next><block type=\"algeo_create_point\" id=\"0.12440764954381267\"><value name=\"x\"><block type=\"basic_input_value\" id=\"0.5722082374624973\"><field name=\"value\">1.3333333333333333</field></block></value><value name=\"y\"><block type=\"basic_input_value\" id=\"0.2842663830682296\"><field name=\"value\">5.44444444444444</field></block></value><value name=\"name\"><block type=\"basic_input_value\" id=\"0.3682857970986789\"><field name=\"value\">\"F6\"</field></block></value><next><block type=\"algeo_create_point\" id=\"0.5401590845306683\"><value name=\"x\"><block type=\"basic_input_value\" id=\"0.6091318138731036\"><field name=\"value\">1.3333333333333333</field></block></value><value name=\"y\"><block type=\"basic_input_value\" id=\"0.32515864944224193\"><field name=\"value\">2.51984209978975</field></block></value><value name=\"name\"><block type=\"basic_input_value\" id=\"0.23326058500150337\"><field name=\"value\">\"G6\"</field></block></value><next><block type=\"algeo_create_point\" id=\"0.7013378731735721\"><value name=\"x\"><block type=\"basic_input_value\" id=\"0.26721541881419364\"><field name=\"value\">1.5555555555555554</field></block></value><value name=\"y\"><block type=\"basic_input_value\" id=\"0.4054645097764271\"><field name=\"value\">6.53086419753086</field></block></value><value name=\"name\"><block type=\"basic_input_value\" id=\"0.35196211300701585\"><field name=\"value\">\"F7\"</field></block></value><next><block type=\"algeo_create_point\" id=\"0.613538307240301\"><value name=\"x\"><block type=\"basic_input_value\" id=\"0.6724958049541075\"><field name=\"value\">1.5555555555555554</field></block></value><value name=\"y\"><block type=\"basic_input_value\" id=\"0.5516127193630379\"><field name=\"value\">2.93946898455120</field></block></value><value name=\"name\"><block type=\"basic_input_value\" id=\"0.5925262637580805\"><field name=\"value\">\"G7\"</field></block></value><next><block type=\"algeo_create_point\" id=\"0.557436107643374\"><value name=\"x\"><block type=\"basic_input_value\" id=\"0.3578830408210335\"><field name=\"value\">1.7777777777777777</field></block></value><value name=\"y\"><block type=\"basic_input_value\" id=\"0.9005777216958523\"><field name=\"value\">7.71604938271605</field></block></value><value name=\"name\"><block type=\"basic_input_value\" id=\"0.5360544562166097\"><field name=\"value\">\"F8\"</field></block></value><next><block type=\"algeo_create_point\" id=\"0.6164074179368669\"><value name=\"x\"><block type=\"basic_input_value\" id=\"0.7960275107463994\"><field name=\"value\">1.7777777777777777</field></block></value><value name=\"y\"><block type=\"basic_input_value\" id=\"0.8343690909461846\"><field name=\"value\">3.42897593141229</field></block></value><value name=\"name\"><block type=\"basic_input_value\" id=\"0.4558953224414187\"><field name=\"value\">\"G8\"</field></block></value><next><block type=\"algeo_create_point\" id=\"0.9982756639437762\"><value name=\"x\"><block type=\"basic_input_value\" id=\"0.67785621946862\"><field name=\"value\">2.0</field></block></value><value name=\"y\"><block type=\"basic_input_value\" id=\"0.13212030290367205\"><field name=\"value\">9.00000000000000</field></block></value><value name=\"name\"><block type=\"basic_input_value\" id=\"0.16198680440193958\"><field name=\"value\">\"F9\"</field></block></value><next><block type=\"algeo_create_point\" id=\"0.5179938909819681\"><value name=\"x\"><block type=\"basic_input_value\" id=\"0.12185952914784226\"><field name=\"value\">2.0</field></block></value><value name=\"y\"><block type=\"basic_input_value\" id=\"0.8207497850133701\"><field name=\"value\">4.00000000000000</field></block></value><value name=\"name\"><block type=\"basic_input_value\" id=\"0.5040963313782975\"><field name=\"value\">\"G9\"</field></block></value><next><block type=\"algeo_execute_set_name\" id=\"0.535297959176529\"><value name=\"name\"><block type=\"basic_input_value\" id=\"0.991304381379916\"><field name=\"value\">\"FuncPoly\"</field></block></value><value name=\"code\"><block type=\"basic_input_value\" id=\"0.00429354534135995\"><field name=\"value\">\"Polygon(F0,F1,F2,F3,F4,F5,F6,F7,F8,F9,G9,G8,G7,G6,G5,G4,G3,G2,G1,G0)\"</field></block></value><next><block type=\"turtle_all_dot_name_show_hide\" id=\"0.5118355076786801\"><field name=\"fielditem_object\">점과 점의 이름</field><field name=\"fielditem_object\">감추기</field></block><next /></next></block></next></block></next></block></next></block></next></block></next></block></next></block></next></block></next></block></next></block></next></block></next></block></next></block></next></block></next></block></next></block></next></block></next></block></next></block></next></block></next></block></next></block></next></block></next></block></xml>\n"
     ]
    }
   ],
   "source": [
    "# 코드 출력\n",
    "\n",
    "xml_string = builder.to_xml_string()\n",
    "print(xml_string.decode())\n"
   ]
  },
  {
   "cell_type": "code",
   "execution_count": 6,
   "metadata": {},
   "outputs": [
    {
     "name": "stdout",
     "output_type": "stream",
     "text": [
      "test\n",
      "F0,F1,F2,F3,F4,F5,F6,F7,F8,F9,G9,G8,G7,G6,G5,G4,G3,G2,G1,G0\n"
     ]
    }
   ],
   "source": [
    "# 함수따라 다각형 만들어보기\n",
    "\n",
    "import sympy as sp\n",
    "import numpy as np # numpy는 배열관련 강력한 기능을 지원합니다.\n",
    "from python2algeomath import AlgeoMathBlockBuilder\n",
    "\n",
    "builder = AlgeoMathBlockBuilder()\n",
    "\n",
    "x, y, a, b, c = sp.symbols(\"x y a b c\")\n",
    "builder.init_variable([\"x\", \"y\", \"a\", \"i\"])\n",
    "\n",
    "# f 함수와 g함수 작성\n",
    "f = x**2+ 2*x +1\n",
    "g = 2**x\n",
    "\n",
    "# 일단 함수 그려보기\n",
    "builder.create_function_graph(sp.latex(f))\n",
    "builder.create_function_graph(sp.latex(g))\n",
    "\n",
    "\n",
    "# 1부터 2까지 10개로 쪼갬\n",
    "n = 10\n",
    "x_list = np.linspace(0, 2, n)\n",
    "\n",
    "\n",
    "# (x, f(x))와 (x, g(x))를 30개 찍음\n",
    "for i, t in enumerate(x_list):\n",
    "  builder.add_dot_block(t, f.subs(x, t), f\"F{i}\")\n",
    "  builder.add_dot_block(t, g.subs(x, t), f\"G{i}\")\n",
    "\n",
    "# 이들을 모두 이은 다각형 생성\n",
    "# 순서대로 이을 목록 생성\n",
    "polygon_list = []\n",
    "\n",
    "# F0, F1, ... F29추가\n",
    "for i in range(n):\n",
    "  polygon_list.append(f\"F{i}\")\n",
    "# G29, G28, ... G1, G0 추가 \n",
    "for i in range(n):\n",
    "  polygon_list.append(f\"G{n-1-i}\")\n",
    "# 쉼표로 구분되는 문자열로 변환\n",
    "polygonStr = \",\".join(polygon_list)\n",
    "print(polygonStr)\n",
    "# 다각형 생성\n",
    "builder.execute_set(\"FuncPoly\", f\"Polygon({polygonStr})\")\n",
    "\n",
    "# 점 과 그 이름 모두 감추기\n",
    "builder.hide_point()"
   ]
  },
  {
   "cell_type": "code",
   "execution_count": null,
   "metadata": {},
   "outputs": [],
   "source": []
  }
 ],
 "metadata": {
  "kernelspec": {
   "display_name": "Python 3",
   "language": "python",
   "name": "python3"
  },
  "language_info": {
   "codemirror_mode": {
    "name": "ipython",
    "version": 3
   },
   "file_extension": ".py",
   "mimetype": "text/x-python",
   "name": "python",
   "nbconvert_exporter": "python",
   "pygments_lexer": "ipython3",
   "version": "3.10.0"
  }
 },
 "nbformat": 4,
 "nbformat_minor": 2
}
