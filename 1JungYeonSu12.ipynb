{
 "cells": [
  {
   "cell_type": "code",
   "execution_count": 21,
   "metadata": {},
   "outputs": [
    {
     "name": "stdout",
     "output_type": "stream",
     "text": [
      "Collecting python2algeomath==0.0.7\n",
      "  Obtaining dependency information for python2algeomath==0.0.7 from https://files.pythonhosted.org/packages/79/e1/4d85377124f2942e119e36f232248191864bc308be1bea843b41b1f90bc9/python2algeomath-0.0.7-py3-none-any.whl.metadata\n",
      "  Downloading python2algeomath-0.0.7-py3-none-any.whl.metadata (659 bytes)\n",
      "Downloading python2algeomath-0.0.7-py3-none-any.whl (4.4 kB)\n",
      "Installing collected packages: python2algeomath\n",
      "  Attempting uninstall: python2algeomath\n",
      "    Found existing installation: python2algeomath 0.0.6\n",
      "    Uninstalling python2algeomath-0.0.6:\n",
      "      Successfully uninstalled python2algeomath-0.0.6\n",
      "Successfully installed python2algeomath-0.0.7\n"
     ]
    },
    {
     "name": "stderr",
     "output_type": "stream",
     "text": [
      "\n",
      "[notice] A new release of pip is available: 23.2.1 -> 23.3.1\n",
      "[notice] To update, run: python.exe -m pip install --upgrade pip\n"
     ]
    }
   ],
   "source": [
    "!pip install python2algeomath==0.0.7"
   ]
  },
  {
   "cell_type": "code",
   "execution_count": 22,
   "metadata": {},
   "outputs": [],
   "source": [
    "# 초기화 부분\n",
    "\n",
    "import sympy as sp\n",
    "import numpy as np  # numpy는 배열관련 강력한 기능을 지원합니다.\n",
    "from python2algeomath import Builder\n",
    "\n",
    "builder = Builder()\n",
    "builder.init_variable([\"x\", \"y\", \"a\", \"i\", \"t\"])\n"
   ]
  },
  {
   "cell_type": "code",
   "execution_count": 23,
   "metadata": {},
   "outputs": [],
   "source": [
    "builder1 = Builder()\n",
    "builder1.init_variable([\"x\", \"y\", \"a\", \"i\", \"t\"])\n",
    "\n",
    "# 점 추가하기 (x, y, 이름)\n",
    "points = [(1, 2, \"D1\"), (3, 4, \"D2\"), (-1, 4, \"D3\"), (1, 2, \"D4\")]\n",
    "for x, y, name in points:\n",
    "  builder1.add_dot_block(x, y, name)\n",
    "\n",
    "\n",
    "# 반복문으로 선분 추가하기\n",
    "builder1.start_control_for(\"i\", 1, 4, 1) # 변수, 시작, 끝, 스텝 순으로 입력\n",
    "builder1.add_two_point_block('\"D\"+i', '\"D\"+(i+1)', '\"L\"+i')\n",
    "builder1.end_control_for()\n",
    "\n"
   ]
  },
  {
   "cell_type": "code",
   "execution_count": 18,
   "metadata": {},
   "outputs": [
    {
     "name": "stdout",
     "output_type": "stream",
     "text": [
      "<xml xmlns=\"https://developers.google.com/blockly/xml\"><variables><variable id=\"0.32375600516058356\">x</variable><variable id=\"0.7957997038687228\">y</variable><variable id=\"0.5607084562542449\">a</variable><variable id=\"0.84441727118098\">i</variable><variable id=\"0.19971894500588072\">t</variable></variables><block type=\"algeo_start\" id=\"0.5067654527945894\" x=\"90\" y=\"50\"><field name=\"state\">START</field><next><block type=\"algeo_create_point\" id=\"0.49653527663979646\"><value name=\"x\"><block type=\"basic_input_value\" id=\"0.5518147745776606\"><field name=\"value\">1</field></block></value><value name=\"y\"><block type=\"basic_input_value\" id=\"0.48722274406931054\"><field name=\"value\">2</field></block></value><value name=\"name\"><block type=\"basic_input_value\" id=\"0.15678497840122496\"><field name=\"value\">\"D1\"</field></block></value><next><block type=\"algeo_create_point\" id=\"0.7187103367851756\"><value name=\"x\"><block type=\"basic_input_value\" id=\"0.589449948452706\"><field name=\"value\">3</field></block></value><value name=\"y\"><block type=\"basic_input_value\" id=\"0.7886308635478075\"><field name=\"value\">4</field></block></value><value name=\"name\"><block type=\"basic_input_value\" id=\"0.7739610898616032\"><field name=\"value\">\"D2\"</field></block></value><next><block type=\"algeo_create_point\" id=\"0.6804279983304323\"><value name=\"x\"><block type=\"basic_input_value\" id=\"0.8655425844163995\"><field name=\"value\">-1</field></block></value><value name=\"y\"><block type=\"basic_input_value\" id=\"0.8561855734170395\"><field name=\"value\">4</field></block></value><value name=\"name\"><block type=\"basic_input_value\" id=\"0.980912783792005\"><field name=\"value\">\"D3\"</field></block></value><next><block type=\"algeo_create_point\" id=\"0.5144410351643864\"><value name=\"x\"><block type=\"basic_input_value\" id=\"0.30841762815280527\"><field name=\"value\">1</field></block></value><value name=\"y\"><block type=\"basic_input_value\" id=\"0.27066464840333926\"><field name=\"value\">2</field></block></value><value name=\"name\"><block type=\"basic_input_value\" id=\"0.47263232284501766\"><field name=\"value\">\"D4\"</field></block></value><next><block type=\"control_for\" id=\"0.81443818316079\"><value name=\"initial\"><block type=\"basic_input_value\" id=\"0.159772024171705\"><field name=\"value\">i = 1</field></block></value><value name=\"end\"><block type=\"basic_input_value\" id=\"0.2484550611958063\"><field name=\"value\">i &lt;= 4</field></block></value><value name=\"step\"><block type=\"basic_input_value\" id=\"0.7586506776767827\"><field name=\"value\">i += 1</field></block></value><statement name=\"statements\"><block type=\"algeo_create_twopoint_object\" id=\"0.6065689795860296\"><field name=\"object\">선분</field><value name=\"segmentName1\"><block type=\"basic_input_value\" id=\"0.2843148118068368\"><field name=\"value\">\"D\"+i</field></block></value><value name=\"segmentName2\"><block type=\"basic_input_value\" id=\"0.04738918524239155\"><field name=\"value\">\"D\"+(i+1)</field></block></value><value name=\"name\"><block type=\"basic_input_value\" id=\"0.2822658003633606\"><field name=\"value\">\"L\"+i</field></block></value><next /></block></statement><next /></block></next></block></next></block></next></block></next></block></next></block></xml>\n"
     ]
    }
   ],
   "source": [
    "# 코드 출력1\n",
    "\n",
    "xml_string = builder1.to_xml_string()\n",
    "print(xml_string.decode())\n"
   ]
  },
  {
   "cell_type": "code",
   "execution_count": 25,
   "metadata": {},
   "outputs": [],
   "source": [
    "builder2 = Builder()\n",
    "# 초기화 부분\n",
    "\n",
    "builder2.init_variable([\"x\", \"y\", \"a\", \"i\", \"t\"])\n",
    "\n",
    "\n",
    "x, y, t = sp.symbols(\"x y t\")\n",
    "\n",
    "\n",
    "# f 함수와 g함수 작성\n",
    "f = x**2 + 2 * x + 1\n",
    "g = 2 * x\n",
    "\n",
    "# 일단 함수 그려보기\n",
    "builder2.add_function_graph(\"f\", sp.latex(f))\n",
    "builder2.add_function_graph(\"g\", sp.latex(g))\n",
    "# 1부터 2까지 10개로 쪼갬\n",
    "# n = 10\n",
    "# x_list = np.linspace(0, 2, n)\n",
    "# # (x, f(x))와 (x, g(x))를 30개 찍음\n",
    "# for i, t in enumerate(x_list):\n",
    "#   builder.add_dot_block(t, f.subs(x, t), f\"F{i}\")\n",
    "#   builder.add_dot_block(t, g.subs(x, t), f\"G{i}\")\n",
    "\n",
    "a, b, n = (0, 1, 20)\n",
    "\n",
    "xstep = (b - a) / n\n",
    "# a이상 b미만, n개로\n",
    "# 위 방식을 블록 코딩 내의 포문으로 대체해볼까?\n",
    "builder2.start_control_for(\"t\", 0, n, 1)\n",
    "# function_dot 은 위에서 function을 선어\n",
    "builder2.add_function_dot('\"F\"+t', f\"{a}+t*{xstep}\", \"f\")\n",
    "builder2.add_function_dot('\"G\"+t', f\"{a}+t*{xstep}\", \"g\")\n",
    "builder2.end_control_for()\n",
    "\n",
    "# 이들을 모두 이은 다각형 생성\n",
    "# 순서대로 이을 목록 생성\n",
    "polygon_list = []\n",
    "\n",
    "# F0, F1, ... F29추가\n",
    "for i in range(n + 1):\n",
    "    polygon_list.append(f\"F{i}\")\n",
    "# G29, G28, ... G1, G0 추가\n",
    "for i in range(n + 1):\n",
    "    polygon_list.append(f\"G{n-i}\")\n",
    "# 쉼표로 구분되는 문자열로 변환\n",
    "polygonStr = \",\".join(polygon_list)\n",
    "\n",
    "# 다각형 생성\n",
    "builder2.execute_set('\"FuncPoly\"', f'\"Polygon({polygonStr})\"')\n",
    "\n",
    "# 점 과 그 이름 모두 감추기\n",
    "builder2.hide_point()"
   ]
  },
  {
   "cell_type": "code",
   "execution_count": null,
   "metadata": {},
   "outputs": [],
   "source": [
    "# 코드 출력2\n",
    "\n",
    "xml_string = builder2.to_xml_string()\n",
    "print(xml_string.decode())\n"
   ]
  }
 ],
 "metadata": {
  "kernelspec": {
   "display_name": "Python 3",
   "language": "python",
   "name": "python3"
  },
  "language_info": {
   "codemirror_mode": {
    "name": "ipython",
    "version": 3
   },
   "file_extension": ".py",
   "mimetype": "text/x-python",
   "name": "python",
   "nbconvert_exporter": "python",
   "pygments_lexer": "ipython3",
   "version": "3.10.0"
  }
 },
 "nbformat": 4,
 "nbformat_minor": 2
}
