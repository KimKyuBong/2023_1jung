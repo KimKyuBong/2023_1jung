{
 "cells": [
  {
   "cell_type": "code",
   "execution_count": 3,
   "metadata": {},
   "outputs": [],
   "source": [
    "from python2algeomath import AlgeoMathBlockBuilder\n",
    "\n",
    "# 한번 만들어본 알지오매스 호환 xml코드 빌더\n",
    "builder = AlgeoMathBlockBuilder()\n",
    "\n",
    "# 초기 변수 선언\n",
    "builder.init_variable([\"x\", \"y\", \"k\", \"n\", \"i\"])\n",
    "\n",
    "# 점 추가하기 (x, y, 이름)\n",
    "points = [(1, 2, \"D1\"), (3, 4, \"D2\"), (-1, 4, \"D3\"), (1, 2, \"D4\")]\n",
    "for x, y, name in points:\n",
    "  builder.add_dot_block(x, y, name)\n",
    "\n",
    "\n",
    "# 반복문으로 선분 추가하기\n",
    "builder.start_control_for(\"i\", 1, 4, 1) # 변수, 시작, 끝, 스텝 순으로 입력\n",
    "builder.add_two_point_block('\"D\"+i', '\"D\"+(i+1)', '\"L\"+i')\n",
    "builder.end_control_for()\n",
    "\n"
   ]
  },
  {
   "cell_type": "code",
   "execution_count": 2,
   "metadata": {},
   "outputs": [
    {
     "name": "stdout",
     "output_type": "stream",
     "text": [
      "<xml xmlns=\"https://developers.google.com/blockly/xml\"><variables><variable id=\"0.28763720848242025\">x</variable><variable id=\"0.7300691444495723\">y</variable><variable id=\"0.3699950869402999\">a</variable><variable id=\"0.34344528899884985\">i</variable><variable id=\"0.3697930913403271\">t</variable></variables><block type=\"algeo_start\" id=\"0.5076200402723712\" x=\"90\" y=\"50\"><field name=\"state\">START</field><next><block type=\"algeo_execute_set_name\" id=\"0.6734035984544836\"><value name=\"name\"><block type=\"basic_input_value\" id=\"0.19734249251195168\"><field name=\"value\">f</field></block></value><value name=\"code\"><block type=\"basic_input_value\" id=\"0.2843086816064667\"><field name=\"value\">\"f(x)=x^{2} + 2 x + 1\"</field></block></value><next><block type=\"algeo_execute_set_name\" id=\"0.6815745743356404\"><value name=\"name\"><block type=\"basic_input_value\" id=\"0.6409558281521218\"><field name=\"value\">g</field></block></value><value name=\"code\"><block type=\"basic_input_value\" id=\"0.6776873200141685\"><field name=\"value\">\"g(x)=2^{x}\"</field></block></value><next><block type=\"control_for\" id=\"0.05456674640636194\"><value name=\"initial\"><block type=\"basic_input_value\" id=\"0.1781446350480329\"><field name=\"value\">t = 0</field></block></value><value name=\"end\"><block type=\"basic_input_value\" id=\"0.413678849769859\"><field name=\"value\">t &lt;= 20</field></block></value><value name=\"step\"><block type=\"basic_input_value\" id=\"0.6432221135348322\"><field name=\"value\">t += 1</field></block></value><statement name=\"statements\"><block type=\"algeo_execute_set_name\" id=\"0.0484201962743489\"><value name=\"name\"><block type=\"basic_input_value\" id=\"0.31349140391830466\"><field name=\"value\">\"F\"+t</field></block></value><value name=\"code\"><block type=\"basic_input_value\" id=\"0.5938235951551263\"><field name=\"value\">\"(1+t/10,f(1+t/10))\"</field></block></value><next><block type=\"algeo_execute_set_name\" id=\"0.6647598484358705\"><value name=\"name\"><block type=\"basic_input_value\" id=\"0.7582671777682818\"><field name=\"value\">\"G\"+t</field></block></value><value name=\"code\"><block type=\"basic_input_value\" id=\"0.7042756993938041\"><field name=\"value\">\"(1+t/10,g(1+t/10))\"</field></block></value><next /><block type=\"algeo_execute_set_name\" id=\"0.8922459572505798\"><value name=\"name\"><block type=\"basic_input_value\" id=\"0.1017422143446276\"><field name=\"value\">FuncPoly</field></block></value><value name=\"code\"><block type=\"basic_input_value\" id=\"0.707217605784063\"><field name=\"value\">\"Polygon(F0,F1,F2,F3,F4,F5,F6,F7,F8,F9,G9,G8,G7,G6,G5,G4,G3,G2,G1,G0)\"</field></block></value><next><block type=\"turtle_all_dot_name_show_hide\" id=\"0.3224389268025346\"><field name=\"fielditem_object\">점과 점의 이름</field><field name=\"fielditem_object\">감추기</field></block><next /></next></block></block></next></block></statement></block></next></block></next></block></next></block></xml>\n"
     ]
    }
   ],
   "source": [
    "# 코드 출력\n",
    "\n",
    "xml_string = builder.to_xml_string()\n",
    "print(xml_string.decode())\n"
   ]
  },
  {
   "cell_type": "code",
   "execution_count": 1,
   "metadata": {},
   "outputs": [
    {
     "name": "stdout",
     "output_type": "stream",
     "text": [
      "F0,F1,F2,F3,F4,F5,F6,F7,F8,F9,G9,G8,G7,G6,G5,G4,G3,G2,G1,G0\n"
     ]
    }
   ],
   "source": [
    "# 함수따라 다각형 만들어보기\n",
    "\n",
    "import sympy as sp\n",
    "import numpy as np # numpy는 배열관련 강력한 기능을 지원합니다.\n",
    "from python2algeomath import AlgeoMathBlockBuilder\n",
    "\n",
    "builder = AlgeoMathBlockBuilder()\n",
    "\n",
    "x, y, c, t = sp.symbols(\"x y c t\")\n",
    "builder.init_variable([\"x\", \"y\", \"a\", \"i\", \"t\"])\n",
    "\n",
    "# f 함수와 g함수 작성\n",
    "f = x**2+ 2*x +1\n",
    "g = 2**x\n",
    "\n",
    "# 일단 함수 그려보기\n",
    "builder.add_function_graph(\"f\", sp.latex(f))\n",
    "builder.add_function_graph(\"g\", sp.latex(g))\n",
    "# 1부터 2까지 10개로 쪼갬\n",
    "# n = 10\n",
    "# x_list = np.linspace(0, 2, n)\n",
    "# # (x, f(x))와 (x, g(x))를 30개 찍음\n",
    "# for i, t in enumerate(x_list):\n",
    "#   builder.add_dot_block(t, f.subs(x, t), f\"F{i}\")\n",
    "#   builder.add_dot_block(t, g.subs(x, t), f\"G{i}\")\n",
    "\n",
    "a, b, n = (0, 1, 10)\n",
    "\n",
    "xstep = (b-a)/n\n",
    "# a이상 b미만, n개로\n",
    "# 위 방식을 블록 코딩 내의 포문으로 대체해볼까?\n",
    "builder.start_control_for(\"t\", 0, 20, 1)\n",
    "# function_dot 은 위에서 function을 선언\n",
    "builder.add_function_dot('\"F\"+t', \"1+t/10\", \"f\")\n",
    "builder.add_function_dot('\"G\"+t', \"1+t/10\", \"g\")\n",
    "builder.end_control_for()\n",
    "\n",
    "# 이들을 모두 이은 다각형 생성\n",
    "# 순서대로 이을 목록 생성\n",
    "polygon_list = []\n",
    "\n",
    "# F0, F1, ... F29추가\n",
    "for i in range(n):\n",
    "  polygon_list.append(f\"F{i}\")\n",
    "# G29, G28, ... G1, G0 추가 \n",
    "for i in range(n):\n",
    "  polygon_list.append(f\"G{n-1-i}\")\n",
    "# 쉼표로 구분되는 문자열로 변환\n",
    "polygonStr = \",\".join(polygon_list)\n",
    "print(polygonStr)\n",
    "# 다각형 생성\n",
    "builder.execute_set(\"FuncPoly\", f\"Polygon({polygonStr})\")\n",
    "\n",
    "# 점 과 그 이름 모두 감추기\n",
    "builder.hide_point()"
   ]
  },
  {
   "cell_type": "code",
   "execution_count": null,
   "metadata": {},
   "outputs": [],
   "source": []
  }
 ],
 "metadata": {
  "kernelspec": {
   "display_name": "Python 3",
   "language": "python",
   "name": "python3"
  },
  "language_info": {
   "codemirror_mode": {
    "name": "ipython",
    "version": 3
   },
   "file_extension": ".py",
   "mimetype": "text/x-python",
   "name": "python",
   "nbconvert_exporter": "python",
   "pygments_lexer": "ipython3",
   "version": "3.11.1"
  }
 },
 "nbformat": 4,
 "nbformat_minor": 2
}
