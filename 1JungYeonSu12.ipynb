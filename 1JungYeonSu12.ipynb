{
 "cells": [
  {
   "cell_type": "code",
   "execution_count": 13,
   "metadata": {},
   "outputs": [
    {
     "name": "stdout",
     "output_type": "stream",
     "text": [
      "test\n"
     ]
    },
    {
     "ename": "AttributeError",
     "evalue": "'BlocklyXmlBuilder' object has no attribute 'start_control_for'",
     "output_type": "error",
     "traceback": [
      "\u001b[1;31m---------------------------------------------------------------------------\u001b[0m",
      "\u001b[1;31mAttributeError\u001b[0m                            Traceback (most recent call last)",
      "\u001b[1;32mc:\\Users\\tfm04\\Documents\\GitHub\\2023_1jung\\1JungYeonSu12.ipynb Cell 1\u001b[0m line \u001b[0;36m1\n\u001b[0;32m     <a href='vscode-notebook-cell:/c%3A/Users/tfm04/Documents/GitHub/2023_1jung/1JungYeonSu12.ipynb#W0sZmlsZQ%3D%3D?line=11'>12</a>\u001b[0m   builder\u001b[39m.\u001b[39madd_dot_block(x, y, name)\n\u001b[0;32m     <a href='vscode-notebook-cell:/c%3A/Users/tfm04/Documents/GitHub/2023_1jung/1JungYeonSu12.ipynb#W0sZmlsZQ%3D%3D?line=14'>15</a>\u001b[0m \u001b[39m# 반복문으로 선분 추가하기\u001b[39;00m\n\u001b[1;32m---> <a href='vscode-notebook-cell:/c%3A/Users/tfm04/Documents/GitHub/2023_1jung/1JungYeonSu12.ipynb#W0sZmlsZQ%3D%3D?line=15'>16</a>\u001b[0m builder\u001b[39m.\u001b[39;49mstart_control_for(\u001b[39m\"\u001b[39m\u001b[39mi\u001b[39m\u001b[39m\"\u001b[39m, \u001b[39m1\u001b[39m, \u001b[39m4\u001b[39m, \u001b[39m1\u001b[39m) \u001b[39m# 변수, 시작, 끝, 스텝 순으로 입력\u001b[39;00m\n\u001b[0;32m     <a href='vscode-notebook-cell:/c%3A/Users/tfm04/Documents/GitHub/2023_1jung/1JungYeonSu12.ipynb#W0sZmlsZQ%3D%3D?line=16'>17</a>\u001b[0m builder\u001b[39m.\u001b[39madd_two_point_block(\u001b[39m'\u001b[39m\u001b[39m\"\u001b[39m\u001b[39mD\u001b[39m\u001b[39m\"\u001b[39m\u001b[39m+i\u001b[39m\u001b[39m'\u001b[39m, \u001b[39m'\u001b[39m\u001b[39m\"\u001b[39m\u001b[39mD\u001b[39m\u001b[39m\"\u001b[39m\u001b[39m+(i+1)\u001b[39m\u001b[39m'\u001b[39m, \u001b[39m'\u001b[39m\u001b[39m\"\u001b[39m\u001b[39mL\u001b[39m\u001b[39m\"\u001b[39m\u001b[39m+i\u001b[39m\u001b[39m'\u001b[39m)\n\u001b[0;32m     <a href='vscode-notebook-cell:/c%3A/Users/tfm04/Documents/GitHub/2023_1jung/1JungYeonSu12.ipynb#W0sZmlsZQ%3D%3D?line=17'>18</a>\u001b[0m builder\u001b[39m.\u001b[39mend_control_for()\n",
      "\u001b[1;31mAttributeError\u001b[0m: 'BlocklyXmlBuilder' object has no attribute 'start_control_for'"
     ]
    }
   ],
   "source": [
    "from python2algeomath import BlocklyXmlBuilder\n",
    "\n",
    "# 한번 만들어본 알지오매스 호환 xml코드 빌더\n",
    "builder = BlocklyXmlBuilder()\n",
    "\n",
    "# 초기 변수 선언\n",
    "builder.init_variable([\"x\", \"y\", \"k\", \"n\", \"i\"])\n",
    "\n",
    "# 점 추가하기\n",
    "points = [(1, 2, \"D1\"), (3, 4, \"D2\"), (-1, 4, \"D3\"), (1, 2, \"D4\")]\n",
    "for x, y, name in points:\n",
    "  builder.add_dot_block(x, y, name)\n",
    "\n",
    "\n",
    "# 반복문으로 선분 추가하기\n",
    "builder.start_control_for(\"i\", 1, 4, 1) # 변수, 시작, 끝, 스텝 순으로 입력\n",
    "builder.add_two_point_block('\"D\"+i', '\"D\"+(i+1)', '\"L\"+i')\n",
    "builder.end_control_for()\n",
    "\n"
   ]
  },
  {
   "cell_type": "code",
   "execution_count": 12,
   "metadata": {},
   "outputs": [
    {
     "ename": "TypeError",
     "evalue": "cannot serialize 1 (type int)",
     "output_type": "error",
     "traceback": [
      "\u001b[1;31m---------------------------------------------------------------------------\u001b[0m",
      "\u001b[1;31mTypeError\u001b[0m                                 Traceback (most recent call last)",
      "File \u001b[1;32mc:\\Users\\tfm04\\AppData\\Local\\Programs\\Python\\Python310\\lib\\xml\\etree\\ElementTree.py:1039\u001b[0m, in \u001b[0;36m_escape_cdata\u001b[1;34m(text)\u001b[0m\n\u001b[0;32m   1035\u001b[0m \u001b[39mtry\u001b[39;00m:\n\u001b[0;32m   1036\u001b[0m     \u001b[39m# it's worth avoiding do-nothing calls for strings that are\u001b[39;00m\n\u001b[0;32m   1037\u001b[0m     \u001b[39m# shorter than 500 characters, or so.  assume that's, by far,\u001b[39;00m\n\u001b[0;32m   1038\u001b[0m     \u001b[39m# the most common case in most applications.\u001b[39;00m\n\u001b[1;32m-> 1039\u001b[0m     \u001b[39mif\u001b[39;00m \u001b[39m\"\u001b[39;49m\u001b[39m&\u001b[39;49m\u001b[39m\"\u001b[39;49m \u001b[39min\u001b[39;49;00m text:\n\u001b[0;32m   1040\u001b[0m         text \u001b[39m=\u001b[39m text\u001b[39m.\u001b[39mreplace(\u001b[39m\"\u001b[39m\u001b[39m&\u001b[39m\u001b[39m\"\u001b[39m, \u001b[39m\"\u001b[39m\u001b[39m&amp;\u001b[39m\u001b[39m\"\u001b[39m)\n",
      "\u001b[1;31mTypeError\u001b[0m: argument of type 'int' is not iterable",
      "\nDuring handling of the above exception, another exception occurred:\n",
      "\u001b[1;31mTypeError\u001b[0m                                 Traceback (most recent call last)",
      "\u001b[1;32mc:\\Users\\tfm04\\Documents\\GitHub\\2023_1jung\\1JungYeonSu12.ipynb Cell 2\u001b[0m line \u001b[0;36m3\n\u001b[0;32m      <a href='vscode-notebook-cell:/c%3A/Users/tfm04/Documents/GitHub/2023_1jung/1JungYeonSu12.ipynb#W1sZmlsZQ%3D%3D?line=0'>1</a>\u001b[0m \u001b[39m# 코드 출력\u001b[39;00m\n\u001b[1;32m----> <a href='vscode-notebook-cell:/c%3A/Users/tfm04/Documents/GitHub/2023_1jung/1JungYeonSu12.ipynb#W1sZmlsZQ%3D%3D?line=2'>3</a>\u001b[0m xml_string \u001b[39m=\u001b[39m builder\u001b[39m.\u001b[39;49mto_xml_string()\n\u001b[0;32m      <a href='vscode-notebook-cell:/c%3A/Users/tfm04/Documents/GitHub/2023_1jung/1JungYeonSu12.ipynb#W1sZmlsZQ%3D%3D?line=3'>4</a>\u001b[0m \u001b[39mprint\u001b[39m(xml_string\u001b[39m.\u001b[39mdecode())\n",
      "File \u001b[1;32mc:\\Users\\tfm04\\Documents\\GitHub\\2023_1jung\\python2algeomath.py:111\u001b[0m, in \u001b[0;36mBlocklyXmlBuilder.to_xml_string\u001b[1;34m(self)\u001b[0m\n\u001b[0;32m    110\u001b[0m \u001b[39mdef\u001b[39;00m \u001b[39mto_xml_string\u001b[39m(\u001b[39mself\u001b[39m):\n\u001b[1;32m--> 111\u001b[0m     \u001b[39mreturn\u001b[39;00m ET\u001b[39m.\u001b[39;49mtostring(\u001b[39mself\u001b[39;49m\u001b[39m.\u001b[39;49mroot, encoding\u001b[39m=\u001b[39;49m\u001b[39m\"\u001b[39;49m\u001b[39mutf-8\u001b[39;49m\u001b[39m\"\u001b[39;49m, method\u001b[39m=\u001b[39;49m\u001b[39m\"\u001b[39;49m\u001b[39mxml\u001b[39;49m\u001b[39m\"\u001b[39;49m)\n",
      "File \u001b[1;32mc:\\Users\\tfm04\\AppData\\Local\\Programs\\Python\\Python310\\lib\\xml\\etree\\ElementTree.py:1109\u001b[0m, in \u001b[0;36mtostring\u001b[1;34m(element, encoding, method, xml_declaration, default_namespace, short_empty_elements)\u001b[0m\n\u001b[0;32m   1095\u001b[0m \u001b[39m\"\"\"Generate string representation of XML element.\u001b[39;00m\n\u001b[0;32m   1096\u001b[0m \n\u001b[0;32m   1097\u001b[0m \u001b[39mAll subelements are included.  If encoding is \"unicode\", a string\u001b[39;00m\n\u001b[1;32m   (...)\u001b[0m\n\u001b[0;32m   1106\u001b[0m \n\u001b[0;32m   1107\u001b[0m \u001b[39m\"\"\"\u001b[39;00m\n\u001b[0;32m   1108\u001b[0m stream \u001b[39m=\u001b[39m io\u001b[39m.\u001b[39mStringIO() \u001b[39mif\u001b[39;00m encoding \u001b[39m==\u001b[39m \u001b[39m'\u001b[39m\u001b[39municode\u001b[39m\u001b[39m'\u001b[39m \u001b[39melse\u001b[39;00m io\u001b[39m.\u001b[39mBytesIO()\n\u001b[1;32m-> 1109\u001b[0m ElementTree(element)\u001b[39m.\u001b[39;49mwrite(stream, encoding,\n\u001b[0;32m   1110\u001b[0m                            xml_declaration\u001b[39m=\u001b[39;49mxml_declaration,\n\u001b[0;32m   1111\u001b[0m                            default_namespace\u001b[39m=\u001b[39;49mdefault_namespace,\n\u001b[0;32m   1112\u001b[0m                            method\u001b[39m=\u001b[39;49mmethod,\n\u001b[0;32m   1113\u001b[0m                            short_empty_elements\u001b[39m=\u001b[39;49mshort_empty_elements)\n\u001b[0;32m   1114\u001b[0m \u001b[39mreturn\u001b[39;00m stream\u001b[39m.\u001b[39mgetvalue()\n",
      "File \u001b[1;32mc:\\Users\\tfm04\\AppData\\Local\\Programs\\Python\\Python310\\lib\\xml\\etree\\ElementTree.py:748\u001b[0m, in \u001b[0;36mElementTree.write\u001b[1;34m(self, file_or_filename, encoding, xml_declaration, default_namespace, method, short_empty_elements)\u001b[0m\n\u001b[0;32m    746\u001b[0m qnames, namespaces \u001b[39m=\u001b[39m _namespaces(\u001b[39mself\u001b[39m\u001b[39m.\u001b[39m_root, default_namespace)\n\u001b[0;32m    747\u001b[0m serialize \u001b[39m=\u001b[39m _serialize[method]\n\u001b[1;32m--> 748\u001b[0m serialize(write, \u001b[39mself\u001b[39;49m\u001b[39m.\u001b[39;49m_root, qnames, namespaces,\n\u001b[0;32m    749\u001b[0m           short_empty_elements\u001b[39m=\u001b[39;49mshort_empty_elements)\n",
      "File \u001b[1;32mc:\\Users\\tfm04\\AppData\\Local\\Programs\\Python\\Python310\\lib\\xml\\etree\\ElementTree.py:913\u001b[0m, in \u001b[0;36m_serialize_xml\u001b[1;34m(write, elem, qnames, namespaces, short_empty_elements, **kwargs)\u001b[0m\n\u001b[0;32m    911\u001b[0m         write(_escape_cdata(text))\n\u001b[0;32m    912\u001b[0m     \u001b[39mfor\u001b[39;00m e \u001b[39min\u001b[39;00m elem:\n\u001b[1;32m--> 913\u001b[0m         _serialize_xml(write, e, qnames, \u001b[39mNone\u001b[39;49;00m,\n\u001b[0;32m    914\u001b[0m                        short_empty_elements\u001b[39m=\u001b[39;49mshort_empty_elements)\n\u001b[0;32m    915\u001b[0m     write(\u001b[39m\"\u001b[39m\u001b[39m</\u001b[39m\u001b[39m\"\u001b[39m \u001b[39m+\u001b[39m tag \u001b[39m+\u001b[39m \u001b[39m\"\u001b[39m\u001b[39m>\u001b[39m\u001b[39m\"\u001b[39m)\n\u001b[0;32m    916\u001b[0m \u001b[39melse\u001b[39;00m:\n",
      "File \u001b[1;32mc:\\Users\\tfm04\\AppData\\Local\\Programs\\Python\\Python310\\lib\\xml\\etree\\ElementTree.py:913\u001b[0m, in \u001b[0;36m_serialize_xml\u001b[1;34m(write, elem, qnames, namespaces, short_empty_elements, **kwargs)\u001b[0m\n\u001b[0;32m    911\u001b[0m         write(_escape_cdata(text))\n\u001b[0;32m    912\u001b[0m     \u001b[39mfor\u001b[39;00m e \u001b[39min\u001b[39;00m elem:\n\u001b[1;32m--> 913\u001b[0m         _serialize_xml(write, e, qnames, \u001b[39mNone\u001b[39;49;00m,\n\u001b[0;32m    914\u001b[0m                        short_empty_elements\u001b[39m=\u001b[39;49mshort_empty_elements)\n\u001b[0;32m    915\u001b[0m     write(\u001b[39m\"\u001b[39m\u001b[39m</\u001b[39m\u001b[39m\"\u001b[39m \u001b[39m+\u001b[39m tag \u001b[39m+\u001b[39m \u001b[39m\"\u001b[39m\u001b[39m>\u001b[39m\u001b[39m\"\u001b[39m)\n\u001b[0;32m    916\u001b[0m \u001b[39melse\u001b[39;00m:\n",
      "    \u001b[1;31m[... skipping similar frames: _serialize_xml at line 913 (3 times)]\u001b[0m\n",
      "File \u001b[1;32mc:\\Users\\tfm04\\AppData\\Local\\Programs\\Python\\Python310\\lib\\xml\\etree\\ElementTree.py:913\u001b[0m, in \u001b[0;36m_serialize_xml\u001b[1;34m(write, elem, qnames, namespaces, short_empty_elements, **kwargs)\u001b[0m\n\u001b[0;32m    911\u001b[0m         write(_escape_cdata(text))\n\u001b[0;32m    912\u001b[0m     \u001b[39mfor\u001b[39;00m e \u001b[39min\u001b[39;00m elem:\n\u001b[1;32m--> 913\u001b[0m         _serialize_xml(write, e, qnames, \u001b[39mNone\u001b[39;49;00m,\n\u001b[0;32m    914\u001b[0m                        short_empty_elements\u001b[39m=\u001b[39;49mshort_empty_elements)\n\u001b[0;32m    915\u001b[0m     write(\u001b[39m\"\u001b[39m\u001b[39m</\u001b[39m\u001b[39m\"\u001b[39m \u001b[39m+\u001b[39m tag \u001b[39m+\u001b[39m \u001b[39m\"\u001b[39m\u001b[39m>\u001b[39m\u001b[39m\"\u001b[39m)\n\u001b[0;32m    916\u001b[0m \u001b[39melse\u001b[39;00m:\n",
      "File \u001b[1;32mc:\\Users\\tfm04\\AppData\\Local\\Programs\\Python\\Python310\\lib\\xml\\etree\\ElementTree.py:911\u001b[0m, in \u001b[0;36m_serialize_xml\u001b[1;34m(write, elem, qnames, namespaces, short_empty_elements, **kwargs)\u001b[0m\n\u001b[0;32m    909\u001b[0m write(\u001b[39m\"\u001b[39m\u001b[39m>\u001b[39m\u001b[39m\"\u001b[39m)\n\u001b[0;32m    910\u001b[0m \u001b[39mif\u001b[39;00m text:\n\u001b[1;32m--> 911\u001b[0m     write(_escape_cdata(text))\n\u001b[0;32m    912\u001b[0m \u001b[39mfor\u001b[39;00m e \u001b[39min\u001b[39;00m elem:\n\u001b[0;32m    913\u001b[0m     _serialize_xml(write, e, qnames, \u001b[39mNone\u001b[39;00m,\n\u001b[0;32m    914\u001b[0m                    short_empty_elements\u001b[39m=\u001b[39mshort_empty_elements)\n",
      "File \u001b[1;32mc:\\Users\\tfm04\\AppData\\Local\\Programs\\Python\\Python310\\lib\\xml\\etree\\ElementTree.py:1047\u001b[0m, in \u001b[0;36m_escape_cdata\u001b[1;34m(text)\u001b[0m\n\u001b[0;32m   1045\u001b[0m     \u001b[39mreturn\u001b[39;00m text\n\u001b[0;32m   1046\u001b[0m \u001b[39mexcept\u001b[39;00m (\u001b[39mTypeError\u001b[39;00m, \u001b[39mAttributeError\u001b[39;00m):\n\u001b[1;32m-> 1047\u001b[0m     _raise_serialization_error(text)\n",
      "File \u001b[1;32mc:\\Users\\tfm04\\AppData\\Local\\Programs\\Python\\Python310\\lib\\xml\\etree\\ElementTree.py:1029\u001b[0m, in \u001b[0;36m_raise_serialization_error\u001b[1;34m(text)\u001b[0m\n\u001b[0;32m   1028\u001b[0m \u001b[39mdef\u001b[39;00m \u001b[39m_raise_serialization_error\u001b[39m(text):\n\u001b[1;32m-> 1029\u001b[0m     \u001b[39mraise\u001b[39;00m \u001b[39mTypeError\u001b[39;00m(\n\u001b[0;32m   1030\u001b[0m         \u001b[39m\"\u001b[39m\u001b[39mcannot serialize \u001b[39m\u001b[39m%r\u001b[39;00m\u001b[39m (type \u001b[39m\u001b[39m%s\u001b[39;00m\u001b[39m)\u001b[39m\u001b[39m\"\u001b[39m \u001b[39m%\u001b[39m (text, \u001b[39mtype\u001b[39m(text)\u001b[39m.\u001b[39m\u001b[39m__name__\u001b[39m)\n\u001b[0;32m   1031\u001b[0m         )\n",
      "\u001b[1;31mTypeError\u001b[0m: cannot serialize 1 (type int)"
     ]
    }
   ],
   "source": [
    "# 코드 출력\n",
    "\n",
    "xml_string = builder.to_xml_string()\n",
    "print(xml_string.decode())\n"
   ]
  }
 ],
 "metadata": {
  "kernelspec": {
   "display_name": "Python 3",
   "language": "python",
   "name": "python3"
  },
  "language_info": {
   "codemirror_mode": {
    "name": "ipython",
    "version": 3
   },
   "file_extension": ".py",
   "mimetype": "text/x-python",
   "name": "python",
   "nbconvert_exporter": "python",
   "pygments_lexer": "ipython3",
   "version": "3.10.0"
  }
 },
 "nbformat": 4,
 "nbformat_minor": 2
}
