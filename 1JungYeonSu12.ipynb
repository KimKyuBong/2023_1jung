{
  "cells": [
    {
      "cell_type": "markdown",
      "metadata": {
        "id": "view-in-github",
        "colab_type": "text"
      },
      "source": [
        "<a href=\"https://colab.research.google.com/github/KimKyuBong/2023_1jung/blob/main/1JungYeonSu12.ipynb\" target=\"_parent\"><img src=\"https://colab.research.google.com/assets/colab-badge.svg\" alt=\"Open In Colab\"/></a>"
      ]
    },
    {
      "cell_type": "code",
      "execution_count": null,
      "metadata": {
        "colab": {
          "base_uri": "https://localhost:8080/"
        },
        "id": "qWo129zcv_vh",
        "outputId": "1e229293-dbfd-4e31-ee40-5b9a5198e6ab"
      },
      "outputs": [
        {
          "output_type": "stream",
          "name": "stdout",
          "text": [
            "Collecting python2algeomath==0.0.9\n",
            "  Downloading python2algeomath-0.0.9-py3-none-any.whl (3.3 kB)\n",
            "Installing collected packages: python2algeomath\n",
            "Successfully installed python2algeomath-0.0.9\n"
          ]
        }
      ],
      "source": [
        "!pip install python2algeomath==0.0.9\n",
        "from python2algeomath import Builder\n",
        "\n",
        "# 한번 만들어본 알지오매스 호환 xml코드 빌더\n",
        "builder = Builder()\n",
        "\n",
        "# 초기 변수 선언\n",
        "builder.init_variable([\"x\", \"y\", \"k\", \"n\", \"i\"])\n",
        "\n",
        "# 점 추가하기 (x, y, 이름)\n",
        "points = [(1, 2, '\"D1\"'), (3, 4, '\"D2\"'), (-1, 4, '\"D3\"'), (1, 2, '\"D4\"')]\n",
        "for x, y, name in points:\n",
        "  builder.add_dot_block(x, y, name)\n",
        "\n",
        "\n",
        "# 반복문으로 선분 추가하기\n",
        "builder.start_control_for(\"i\", 1, 4, 1) # 변수, 시작, 끝, 스텝 순으로 입력\n",
        "builder.add_two_point_block('\"D\"+i', '\"D\"+(i+1)', '\"L\"+i')\n",
        "builder.end_control_for()\n",
        "\n"
      ]
    },
    {
      "cell_type": "code",
      "execution_count": null,
      "metadata": {
        "colab": {
          "base_uri": "https://localhost:8080/"
        },
        "id": "8sx8JGr7v_vj",
        "outputId": "38e1ac98-de40-4b29-b624-9ebc2b353668"
      },
      "outputs": [
        {
          "output_type": "stream",
          "name": "stdout",
          "text": [
            "<xml xmlns=\"https://developers.google.com/blockly/xml\"><variables><variable id=\"0.48815857980272215\">x</variable><variable id=\"0.8877841667724158\">y</variable><variable id=\"0.3358326632734052\">a</variable><variable id=\"0.8849564058649232\">i</variable></variables><block type=\"algeo_start\" id=\"0.5916223707714845\" x=\"90\" y=\"50\"><field name=\"state\">START</field><next><block type=\"create_function_fx\" id=\"0.9047559056031176\"><value name=\"xValue\"><block type=\"basic_input_value\" id=\"0.6188006431403688\"><field name=\"value\">\"x^{2} + 2 x + 1\"</field></block></value><next><block type=\"create_function_fx\" id=\"0.7658632374271801\"><value name=\"xValue\"><block type=\"basic_input_value\" id=\"0.574541864012085\"><field name=\"value\">\"2^{x}\"</field></block></value><next><block type=\"algeo_create_point\" id=\"0.134650240720951\"><value name=\"x\"><block type=\"basic_input_value\" id=\"0.522312897357255\"><field name=\"value\">1.0</field></block></value><value name=\"y\"><block type=\"basic_input_value\" id=\"0.07881196858843109\"><field name=\"value\">4.00000000000000</field></block></value><value name=\"name\"><block type=\"basic_input_value\" id=\"0.651481046974413\"><field name=\"value\">\"F0\"</field></block></value><next><block type=\"algeo_create_point\" id=\"0.737981547048536\"><value name=\"x\"><block type=\"basic_input_value\" id=\"0.9304243248655649\"><field name=\"value\">1.0</field></block></value><value name=\"y\"><block type=\"basic_input_value\" id=\"0.821250610745769\"><field name=\"value\">2.00000000000000</field></block></value><value name=\"name\"><block type=\"basic_input_value\" id=\"0.8383563713504877\"><field name=\"value\">\"G0\"</field></block></value><next><block type=\"algeo_create_point\" id=\"0.9463482646871613\"><value name=\"x\"><block type=\"basic_input_value\" id=\"0.06868867934454848\"><field name=\"value\">1.103448275862069</field></block></value><value name=\"y\"><block type=\"basic_input_value\" id=\"0.8299172320738505\"><field name=\"value\">4.42449464922711</field></block></value><value name=\"name\"><block type=\"basic_input_value\" id=\"0.1819863457048193\"><field name=\"value\">\"F1\"</field></block></value><next><block type=\"algeo_create_point\" id=\"0.939569666128938\"><value name=\"x\"><block type=\"basic_input_value\" id=\"0.43335154224723316\"><field name=\"value\">1.103448275862069</field></block></value><value name=\"y\"><block type=\"basic_input_value\" id=\"0.1125245747293101\"><field name=\"value\">2.14867647875243</field></block></value><value name=\"name\"><block type=\"basic_input_value\" id=\"0.4925659951259208\"><field name=\"value\">\"G1\"</field></block></value><next><block type=\"algeo_create_point\" id=\"0.795736796918796\"><value name=\"x\"><block type=\"basic_input_value\" id=\"0.15600568147456828\"><field name=\"value\">1.206896551724138</field></block></value><value name=\"y\"><block type=\"basic_input_value\" id=\"0.8568285147803495\"><field name=\"value\">4.87039239001189</field></block></value><value name=\"name\"><block type=\"basic_input_value\" id=\"0.24504807828083175\"><field name=\"value\">\"F2\"</field></block></value><next><block type=\"algeo_create_point\" id=\"0.22294754512487536\"><value name=\"x\"><block type=\"basic_input_value\" id=\"0.5500168958610728\"><field name=\"value\">1.206896551724138</field></block></value><value name=\"y\"><block type=\"basic_input_value\" id=\"0.5186587852009666\"><field name=\"value\">2.30840530517197</field></block></value><value name=\"name\"><block type=\"basic_input_value\" id=\"0.01532911394868075\"><field name=\"value\">\"G2\"</field></block></value><next><block type=\"algeo_create_point\" id=\"0.46796405652711504\"><value name=\"x\"><block type=\"basic_input_value\" id=\"0.5509769677006054\"><field name=\"value\">1.3103448275862069</field></block></value><value name=\"y\"><block type=\"basic_input_value\" id=\"0.6486225296560918\"><field name=\"value\">5.33769322235434</field></block></value><value name=\"name\"><block type=\"basic_input_value\" id=\"0.45235964277708696\"><field name=\"value\">\"F3\"</field></block></value><next><block type=\"algeo_create_point\" id=\"0.7165720937003129\"><value name=\"x\"><block type=\"basic_input_value\" id=\"0.5398386953513066\"><field name=\"value\">1.3103448275862069</field></block></value><value name=\"y\"><block type=\"basic_input_value\" id=\"0.5461484589248208\"><field name=\"value\">2.48000809132517</field></block></value><value name=\"name\"><block type=\"basic_input_value\" id=\"0.795912584894589\"><field name=\"value\">\"G3\"</field></block></value><next><block type=\"algeo_create_point\" id=\"0.3154288951021953\"><value name=\"x\"><block type=\"basic_input_value\" id=\"0.8825787052240853\"><field name=\"value\">1.4137931034482758</field></block></value><value name=\"y\"><block type=\"basic_input_value\" id=\"0.9050214536881345\"><field name=\"value\">5.82639714625446</field></block></value><value name=\"name\"><block type=\"basic_input_value\" id=\"0.4733210426427047\"><field name=\"value\">\"F4\"</field></block></value><next><block type=\"algeo_create_point\" id=\"0.8685898707349542\"><value name=\"x\"><block type=\"basic_input_value\" id=\"0.3843957883797571\"><field name=\"value\">1.4137931034482758</field></block></value><value name=\"y\"><block type=\"basic_input_value\" id=\"0.27780124318291255\"><field name=\"value\">2.66436752647306</field></block></value><value name=\"name\"><block type=\"basic_input_value\" id=\"0.908859949413233\"><field name=\"value\">\"G4\"</field></block></value><next><block type=\"algeo_create_point\" id=\"0.3655074083143748\"><value name=\"x\"><block type=\"basic_input_value\" id=\"0.029127637659209338\"><field name=\"value\">1.5172413793103448</field></block></value><value name=\"y\"><block type=\"basic_input_value\" id=\"0.7416800158515846\"><field name=\"value\">6.33650416171225</field></block></value><value name=\"name\"><block type=\"basic_input_value\" id=\"0.34887308534398687\"><field name=\"value\">\"F5\"</field></block></value><next><block type=\"algeo_create_point\" id=\"0.37988925188114375\"><value name=\"x\"><block type=\"basic_input_value\" id=\"0.9473912828767574\"><field name=\"value\">1.5172413793103448</field></block></value><value name=\"y\"><block type=\"basic_input_value\" id=\"0.5073112994556312\"><field name=\"value\">2.86243191744223</field></block></value><value name=\"name\"><block type=\"basic_input_value\" id=\"0.5028537063488634\"><field name=\"value\">\"G5\"</field></block></value><next><block type=\"algeo_create_point\" id=\"0.01758804116952961\"><value name=\"x\"><block type=\"basic_input_value\" id=\"0.9743756089723234\"><field name=\"value\">1.6206896551724137</field></block></value><value name=\"y\"><block type=\"basic_input_value\" id=\"0.42886589191669644\"><field name=\"value\">6.86801426872770</field></block></value><value name=\"name\"><block type=\"basic_input_value\" id=\"0.8580077957590402\"><field name=\"value\">\"F6\"</field></block></value><next><block type=\"algeo_create_point\" id=\"0.751412814735252\"><value name=\"x\"><block type=\"basic_input_value\" id=\"0.8383890834764104\"><field name=\"value\">1.6206896551724137</field></block></value><value name=\"y\"><block type=\"basic_input_value\" id=\"0.8859960901851965\"><field name=\"value\">3.07522006651917</field></block></value><value name=\"name\"><block type=\"basic_input_value\" id=\"0.8961375535142866\"><field name=\"value\">\"G6\"</field></block></value><next><block type=\"algeo_create_point\" id=\"0.7208343253478771\"><value name=\"x\"><block type=\"basic_input_value\" id=\"0.05388996470437968\"><field name=\"value\">1.7241379310344827</field></block></value><value name=\"y\"><block type=\"basic_input_value\" id=\"0.4600146284510448\"><field name=\"value\">7.42092746730083</field></block></value><value name=\"name\"><block type=\"basic_input_value\" id=\"0.06355894789024052\"><field name=\"value\">\"F7\"</field></block></value><next><block type=\"algeo_create_point\" id=\"0.26620242108338277\"><value name=\"x\"><block type=\"basic_input_value\" id=\"0.37126099496034737\"><field name=\"value\">1.7241379310344827</field></block></value><value name=\"y\"><block type=\"basic_input_value\" id=\"0.034289002893125864\"><field name=\"value\">3.30382651195861</field></block></value><value name=\"name\"><block type=\"basic_input_value\" id=\"0.7208272609793588\"><field name=\"value\">\"G7\"</field></block></value><next><block type=\"algeo_create_point\" id=\"0.26455344055731045\"><value name=\"x\"><block type=\"basic_input_value\" id=\"0.6326962095586514\"><field name=\"value\">1.8275862068965516</field></block></value><value name=\"y\"><block type=\"basic_input_value\" id=\"0.16806673596154276\"><field name=\"value\">7.99524375743163</field></block></value><value name=\"name\"><block type=\"basic_input_value\" id=\"0.7271506546132566\"><field name=\"value\">\"F8\"</field></block></value><next><block type=\"algeo_create_point\" id=\"0.6854096241310087\"><value name=\"x\"><block type=\"basic_input_value\" id=\"0.8408013995695537\"><field name=\"value\">1.8275862068965516</field></block></value><value name=\"y\"><block type=\"basic_input_value\" id=\"0.31558600751680865\"><field name=\"value\">3.54942715806208</field></block></value><value name=\"name\"><block type=\"basic_input_value\" id=\"0.45260789721772554\"><field name=\"value\">\"G8\"</field></block></value><next><block type=\"algeo_create_point\" id=\"0.5385579466562406\"><value name=\"x\"><block type=\"basic_input_value\" id=\"0.17037202439006283\"><field name=\"value\">1.9310344827586206</field></block></value><value name=\"y\"><block type=\"basic_input_value\" id=\"0.31881374107731675\"><field name=\"value\">8.59096313912010</field></block></value><value name=\"name\"><block type=\"basic_input_value\" id=\"0.15646989099573894\"><field name=\"value\">\"F9\"</field></block></value><next><block type=\"algeo_create_point\" id=\"0.5836383673525108\"><value name=\"x\"><block type=\"basic_input_value\" id=\"0.6663607930997756\"><field name=\"value\">1.9310344827586206</field></block></value><value name=\"y\"><block type=\"basic_input_value\" id=\"0.004431878616673823\"><field name=\"value\">3.81328532378654</field></block></value><value name=\"name\"><block type=\"basic_input_value\" id=\"0.7236157086784498\"><field name=\"value\">\"G9\"</field></block></value><next><block type=\"algeo_create_point\" id=\"0.2950661678347489\"><value name=\"x\"><block type=\"basic_input_value\" id=\"0.719605826063926\"><field name=\"value\">2.0344827586206895</field></block></value><value name=\"y\"><block type=\"basic_input_value\" id=\"0.10697972706953307\"><field name=\"value\">9.20808561236623</field></block></value><value name=\"name\"><block type=\"basic_input_value\" id=\"0.5317747784423231\"><field name=\"value\">\"F10\"</field></block></value><next><block type=\"algeo_create_point\" id=\"0.4717112835689542\"><value name=\"x\"><block type=\"basic_input_value\" id=\"0.3714050880940969\"><field name=\"value\">2.0344827586206895</field></block></value><value name=\"y\"><block type=\"basic_input_value\" id=\"0.5989085925819665\"><field name=\"value\">4.09675824099599</field></block></value><value name=\"name\"><block type=\"basic_input_value\" id=\"0.1933369810332567\"><field name=\"value\">\"G10\"</field></block></value><next><block type=\"algeo_create_point\" id=\"0.28544060872389043\"><value name=\"x\"><block type=\"basic_input_value\" id=\"0.8828704071802651\"><field name=\"value\">2.137931034482759</field></block></value><value name=\"y\"><block type=\"basic_input_value\" id=\"0.33562674560761696\"><field name=\"value\">9.84661117717004</field></block></value><value name=\"name\"><block type=\"basic_input_value\" id=\"0.9380838806623937\"><field name=\"value\">\"F11\"</field></block></value><next><block type=\"algeo_create_point\" id=\"0.37565261024042385\"><value name=\"x\"><block type=\"basic_input_value\" id=\"0.8396758531833838\"><field name=\"value\">2.137931034482759</field></block></value><value name=\"y\"><block type=\"basic_input_value\" id=\"0.9382037872699972\"><field name=\"value\">4.40130403578163</field></block></value><value name=\"name\"><block type=\"basic_input_value\" id=\"0.32975594938824615\"><field name=\"value\">\"G11\"</field></block></value><next><block type=\"algeo_create_point\" id=\"0.5238090938227155\"><value name=\"x\"><block type=\"basic_input_value\" id=\"0.8657422288379525\"><field name=\"value\">2.2413793103448274</field></block></value><value name=\"y\"><block type=\"basic_input_value\" id=\"0.15009450040409456\"><field name=\"value\">10.5065398335315</field></block></value><value name=\"name\"><block type=\"basic_input_value\" id=\"0.7415764225331778\"><field name=\"value\">\"F12\"</field></block></value><next><block type=\"algeo_create_point\" id=\"0.33956536703297835\"><value name=\"x\"><block type=\"basic_input_value\" id=\"0.9959950404191075\"><field name=\"value\">2.2413793103448274</field></block></value><value name=\"y\"><block type=\"basic_input_value\" id=\"0.9127089690174488\"><field name=\"value\">4.72848922876107</field></block></value><value name=\"name\"><block type=\"basic_input_value\" id=\"0.09371049513043661\"><field name=\"value\">\"G12\"</field></block></value><next><block type=\"algeo_create_point\" id=\"0.3229183271832675\"><value name=\"x\"><block type=\"basic_input_value\" id=\"0.16228046766135884\"><field name=\"value\">2.344827586206897</field></block></value><value name=\"y\"><block type=\"basic_input_value\" id=\"0.20203191262520903\"><field name=\"value\">11.1878715814507</field></block></value><value name=\"name\"><block type=\"basic_input_value\" id=\"0.5816916447955276\"><field name=\"value\">\"F13\"</field></block></value><next><block type=\"algeo_create_point\" id=\"0.6807956820845708\"><value name=\"x\"><block type=\"basic_input_value\" id=\"0.3599744133694358\"><field name=\"value\">2.344827586206897</field></block></value><value name=\"y\"><block type=\"basic_input_value\" id=\"0.8302944162765241\"><field name=\"value\">5.07999679293657</field></block></value><value name=\"name\"><block type=\"basic_input_value\" id=\"0.24845561831629803\"><field name=\"value\">\"G13\"</field></block></value><next><block type=\"algeo_create_point\" id=\"0.4078531329515721\"><value name=\"x\"><block type=\"basic_input_value\" id=\"0.1180610586418569\"><field name=\"value\">2.4482758620689653</field></block></value><value name=\"y\"><block type=\"basic_input_value\" id=\"0.787490560901772\"><field name=\"value\">11.8906064209275</field></block></value><value name=\"name\"><block type=\"basic_input_value\" id=\"0.8770701609523671\"><field name=\"value\">\"F14\"</field></block></value><next><block type=\"algeo_create_point\" id=\"0.5598639294166334\"><value name=\"x\"><block type=\"basic_input_value\" id=\"0.639715476535386\"><field name=\"value\">2.4482758620689653</field></block></value><value name=\"y\"><block type=\"basic_input_value\" id=\"0.10761520376469824\"><field name=\"value\">5.45763481056030</field></block></value><value name=\"name\"><block type=\"basic_input_value\" id=\"0.6894171866763725\"><field name=\"value\">\"G14\"</field></block></value><next><block type=\"algeo_create_point\" id=\"0.9519058372589021\"><value name=\"x\"><block type=\"basic_input_value\" id=\"0.2941915708127071\"><field name=\"value\">2.5517241379310347</field></block></value><value name=\"y\"><block type=\"basic_input_value\" id=\"0.7046746842755377\"><field name=\"value\">12.6147443519620</field></block></value><value name=\"name\"><block type=\"basic_input_value\" id=\"0.33731386450432144\"><field name=\"value\">\"F15\"</field></block></value><next><block type=\"algeo_create_point\" id=\"0.8868348545608464\"><value name=\"x\"><block type=\"basic_input_value\" id=\"0.24239426094046745\"><field name=\"value\">2.5517241379310347</field></block></value><value name=\"y\"><block type=\"basic_input_value\" id=\"0.6238741894151846\"><field name=\"value\">5.86334577353570</field></block></value><value name=\"name\"><block type=\"basic_input_value\" id=\"0.7675881706833232\"><field name=\"value\">\"G15\"</field></block></value><next><block type=\"algeo_create_point\" id=\"0.9938718096974305\"><value name=\"x\"><block type=\"basic_input_value\" id=\"0.8047078794841426\"><field name=\"value\">2.655172413793103</field></block></value><value name=\"y\"><block type=\"basic_input_value\" id=\"0.6307203353846103\"><field name=\"value\">13.3602853745541</field></block></value><value name=\"name\"><block type=\"basic_input_value\" id=\"0.5544541936123667\"><field name=\"value\">\"F16\"</field></block></value><next><block type=\"algeo_create_point\" id=\"0.022702516058069167\"><value name=\"x\"><block type=\"basic_input_value\" id=\"0.10562420309866771\"><field name=\"value\">2.655172413793103</field></block></value><value name=\"y\"><block type=\"basic_input_value\" id=\"0.12079041021020154\"><field name=\"value\">6.29921657519431</field></block></value><value name=\"name\"><block type=\"basic_input_value\" id=\"0.48996295627155106\"><field name=\"value\">\"G16\"</field></block></value><next><block type=\"algeo_create_point\" id=\"0.8551922213925008\"><value name=\"x\"><block type=\"basic_input_value\" id=\"0.05709594093544168\"><field name=\"value\">2.7586206896551726</field></block></value><value name=\"y\"><block type=\"basic_input_value\" id=\"0.8053205338464471\"><field name=\"value\">14.1272294887039</field></block></value><value name=\"name\"><block type=\"basic_input_value\" id=\"0.4032455203352636\"><field name=\"value\">\"F17\"</field></block></value><next><block type=\"algeo_create_point\" id=\"0.7823937309795536\"><value name=\"x\"><block type=\"basic_input_value\" id=\"0.11183081306683518\"><field name=\"value\">2.7586206896551726</field></block></value><value name=\"y\"><block type=\"basic_input_value\" id=\"0.6809133006893007\"><field name=\"value\">6.76748924484373</field></block></value><value name=\"name\"><block type=\"basic_input_value\" id=\"0.7201382632005414\"><field name=\"value\">\"G17\"</field></block></value><next><block type=\"algeo_create_point\" id=\"0.045054135895893466\"><value name=\"x\"><block type=\"basic_input_value\" id=\"0.2582953058185634\"><field name=\"value\">2.862068965517241</field></block></value><value name=\"y\"><block type=\"basic_input_value\" id=\"0.6885857310997129\"><field name=\"value\">14.9155766944114</field></block></value><value name=\"name\"><block type=\"basic_input_value\" id=\"0.18250111110930212\"><field name=\"value\">\"F18\"</field></block></value><next><block type=\"algeo_create_point\" id=\"0.516726962608482\"><value name=\"x\"><block type=\"basic_input_value\" id=\"0.8458211797069547\"><field name=\"value\">2.862068965517241</field></block></value><value name=\"y\"><block type=\"basic_input_value\" id=\"0.05751641299082688\"><field name=\"value\">7.27057248030289</field></block></value><value name=\"name\"><block type=\"basic_input_value\" id=\"0.052589445237298804\"><field name=\"value\">\"G18\"</field></block></value><next><block type=\"algeo_create_point\" id=\"0.1785919041027214\"><value name=\"x\"><block type=\"basic_input_value\" id=\"0.4682961490969947\"><field name=\"value\">2.9655172413793105</field></block></value><value name=\"y\"><block type=\"basic_input_value\" id=\"0.2622015313690855\"><field name=\"value\">15.7253269916766</field></block></value><value name=\"name\"><block type=\"basic_input_value\" id=\"0.50896205578768\"><field name=\"value\">\"F19\"</field></block></value><next><block type=\"algeo_create_point\" id=\"0.3375073906321475\"><value name=\"x\"><block type=\"basic_input_value\" id=\"0.5900239234352161\"><field name=\"value\">2.9655172413793105</field></block></value><value name=\"y\"><block type=\"basic_input_value\" id=\"0.9518481996822867\"><field name=\"value\">7.81105403774578</field></block></value><value name=\"name\"><block type=\"basic_input_value\" id=\"0.8639501076924708\"><field name=\"value\">\"G19\"</field></block></value><next><block type=\"algeo_create_point\" id=\"0.20744431255248685\"><value name=\"x\"><block type=\"basic_input_value\" id=\"0.16412142531420992\"><field name=\"value\">3.0689655172413794</field></block></value><value name=\"y\"><block type=\"basic_input_value\" id=\"0.5113652059113389\"><field name=\"value\">16.5564803804994</field></block></value><value name=\"name\"><block type=\"basic_input_value\" id=\"0.8288933974977427\"><field name=\"value\">\"F20\"</field></block></value><next><block type=\"algeo_create_point\" id=\"0.4139405265760634\"><value name=\"x\"><block type=\"basic_input_value\" id=\"0.5791839617991867\"><field name=\"value\">3.0689655172413794</field></block></value><value name=\"y\"><block type=\"basic_input_value\" id=\"0.6132836968964254\"><field name=\"value\">8.39171404258428</field></block></value><value name=\"name\"><block type=\"basic_input_value\" id=\"0.6286326837189998\"><field name=\"value\">\"G20\"</field></block></value><next><block type=\"algeo_create_point\" id=\"0.6497240716711596\"><value name=\"x\"><block type=\"basic_input_value\" id=\"0.7059712041296851\"><field name=\"value\">3.1724137931034484</field></block></value><value name=\"y\"><block type=\"basic_input_value\" id=\"0.030666649453916617\"><field name=\"value\">17.4090368608799</field></block></value><value name=\"name\"><block type=\"basic_input_value\" id=\"0.6441493957109448\"><field name=\"value\">\"F21\"</field></block></value><next><block type=\"algeo_create_point\" id=\"0.6992442398442201\"><value name=\"x\"><block type=\"basic_input_value\" id=\"0.12059275338449493\"><field name=\"value\">3.1724137931034484</field></block></value><value name=\"y\"><block type=\"basic_input_value\" id=\"0.5689111870413044\"><field name=\"value\">9.01553928985866</field></block></value><value name=\"name\"><block type=\"basic_input_value\" id=\"0.2211067106890966\"><field name=\"value\">\"G21\"</field></block></value><next><block type=\"algeo_create_point\" id=\"0.7016403873175036\"><value name=\"x\"><block type=\"basic_input_value\" id=\"0.6757707098729135\"><field name=\"value\">3.2758620689655173</field></block></value><value name=\"y\"><block type=\"basic_input_value\" id=\"0.23254735120004633\"><field name=\"value\">18.2829964328181</field></block></value><value name=\"name\"><block type=\"basic_input_value\" id=\"0.825190333263327\"><field name=\"value\">\"F22\"</field></block></value><next><block type=\"algeo_create_point\" id=\"0.10384961882493737\"><value name=\"x\"><block type=\"basic_input_value\" id=\"0.6355592766840464\"><field name=\"value\">3.2758620689655173</field></block></value><value name=\"y\"><block type=\"basic_input_value\" id=\"0.43679369234762455\"><field name=\"value\">9.68573860769385</field></block></value><value name=\"name\"><block type=\"basic_input_value\" id=\"0.8525507190123314\"><field name=\"value\">\"G22\"</field></block></value><next><block type=\"algeo_create_point\" id=\"0.5297492773556155\"><value name=\"x\"><block type=\"basic_input_value\" id=\"0.36438172483604225\"><field name=\"value\">3.3793103448275863</field></block></value><value name=\"y\"><block type=\"basic_input_value\" id=\"0.4170200372514592\"><field name=\"value\">19.1783590963139</field></block></value><value name=\"name\"><block type=\"basic_input_value\" id=\"0.4096844930283674\"><field name=\"value\">\"F23\"</field></block></value><next><block type=\"algeo_create_point\" id=\"0.5769216887973998\"><value name=\"x\"><block type=\"basic_input_value\" id=\"0.4303019473343196\"><field name=\"value\">3.3793103448275863</field></block></value><value name=\"y\"><block type=\"basic_input_value\" id=\"0.6828665409347585\"><field name=\"value\">10.4057593628480</field></block></value><value name=\"name\"><block type=\"basic_input_value\" id=\"0.33114340907769846\"><field name=\"value\">\"G23\"</field></block></value><next><block type=\"algeo_create_point\" id=\"0.6665078599010129\"><value name=\"x\"><block type=\"basic_input_value\" id=\"0.6469645622017418\"><field name=\"value\">3.4827586206896552</field></block></value><value name=\"y\"><block type=\"basic_input_value\" id=\"0.5599916252157043\"><field name=\"value\">20.0951248513674</field></block></value><value name=\"name\"><block type=\"basic_input_value\" id=\"0.3096463766778341\"><field name=\"value\">\"F24\"</field></block></value><next><block type=\"algeo_create_point\" id=\"0.6894385700489549\"><value name=\"x\"><block type=\"basic_input_value\" id=\"0.3723801539160567\"><field name=\"value\">3.4827586206896552</field></block></value><value name=\"y\"><block type=\"basic_input_value\" id=\"0.948087866733188\"><field name=\"value\">11.1793051932547</field></block></value><value name=\"name\"><block type=\"basic_input_value\" id=\"0.7986509511020176\"><field name=\"value\">\"G24\"</field></block></value><next><block type=\"algeo_create_point\" id=\"0.906944112212061\"><value name=\"x\"><block type=\"basic_input_value\" id=\"0.959463514693055\"><field name=\"value\">3.586206896551724</field></block></value><value name=\"y\"><block type=\"basic_input_value\" id=\"0.7905589118544333\"><field name=\"value\">21.0332936979786</field></block></value><value name=\"name\"><block type=\"basic_input_value\" id=\"0.5839306924738349\"><field name=\"value\">\"F25\"</field></block></value><next><block type=\"algeo_create_point\" id=\"0.7709375803215777\"><value name=\"x\"><block type=\"basic_input_value\" id=\"0.17900800498203373\"><field name=\"value\">3.586206896551724</field></block></value><value name=\"y\"><block type=\"basic_input_value\" id=\"0.1953845036758085\"><field name=\"value\">12.0103550587707</field></block></value><value name=\"name\"><block type=\"basic_input_value\" id=\"0.5636109372319612\"><field name=\"value\">\"G25\"</field></block></value><next><block type=\"algeo_create_point\" id=\"0.5173548735459981\"><value name=\"x\"><block type=\"basic_input_value\" id=\"0.9941635058249265\"><field name=\"value\">3.689655172413793</field></block></value><value name=\"y\"><block type=\"basic_input_value\" id=\"0.41947776532798686\"><field name=\"value\">21.9928656361474</field></block></value><value name=\"name\"><block type=\"basic_input_value\" id=\"0.04580783053973636\"><field name=\"value\">\"F26\"</field></block></value><next><block type=\"algeo_create_point\" id=\"0.2736818502133951\"><value name=\"x\"><block type=\"basic_input_value\" id=\"0.7925490769845825\"><field name=\"value\">3.689655172413793</field></block></value><value name=\"y\"><block type=\"basic_input_value\" id=\"0.4454614337950127\"><field name=\"value\">12.9031837081229</field></block></value><value name=\"name\"><block type=\"basic_input_value\" id=\"0.65397489363062\"><field name=\"value\">\"G26\"</field></block></value><next><block type=\"algeo_create_point\" id=\"0.7068860213844609\"><value name=\"x\"><block type=\"basic_input_value\" id=\"0.2622721936370106\"><field name=\"value\">3.793103448275862</field></block></value><value name=\"y\"><block type=\"basic_input_value\" id=\"0.4443139084240212\"><field name=\"value\">22.9738406658740</field></block></value><value name=\"name\"><block type=\"basic_input_value\" id=\"0.9903915875222492\"><field name=\"value\">\"F27\"</field></block></value><next><block type=\"algeo_create_point\" id=\"0.9166156542736784\"><value name=\"x\"><block type=\"basic_input_value\" id=\"0.3594626608458855\"><field name=\"value\">3.793103448275862</field></block></value><value name=\"y\"><block type=\"basic_input_value\" id=\"0.4306208869580489\"><field name=\"value\">13.8623836673326</field></block></value><value name=\"name\"><block type=\"basic_input_value\" id=\"0.7356085725499927\"><field name=\"value\">\"G27\"</field></block></value><next><block type=\"algeo_create_point\" id=\"0.0566963483713947\"><value name=\"x\"><block type=\"basic_input_value\" id=\"0.959535739311694\"><field name=\"value\">3.896551724137931</field></block></value><value name=\"y\"><block type=\"basic_input_value\" id=\"0.2883191533876964\"><field name=\"value\">23.9762187871581</field></block></value><value name=\"name\"><block type=\"basic_input_value\" id=\"0.5299557784896417\"><field name=\"value\">\"F28\"</field></block></value><next><block type=\"algeo_create_point\" id=\"0.9365893475909184\"><value name=\"x\"><block type=\"basic_input_value\" id=\"0.6855840638097664\"><field name=\"value\">3.896551724137931</field></block></value><value name=\"y\"><block type=\"basic_input_value\" id=\"0.9896605968502165\"><field name=\"value\">14.8928888627198</field></block></value><value name=\"name\"><block type=\"basic_input_value\" id=\"0.24061805346106646\"><field name=\"value\">\"G28\"</field></block></value><next><block type=\"algeo_create_point\" id=\"0.7566620483212241\"><value name=\"x\"><block type=\"basic_input_value\" id=\"0.8391329245237339\"><field name=\"value\">4.0</field></block></value><value name=\"y\"><block type=\"basic_input_value\" id=\"0.412875908498201\"><field name=\"value\">25.0000000000000</field></block></value><value name=\"name\"><block type=\"basic_input_value\" id=\"0.6425508419794449\"><field name=\"value\">\"F29\"</field></block></value><next><block type=\"algeo_create_point\" id=\"0.9320507980766678\"><value name=\"x\"><block type=\"basic_input_value\" id=\"0.8676534599872839\"><field name=\"value\">4.0</field></block></value><value name=\"y\"><block type=\"basic_input_value\" id=\"0.2636042582087067\"><field name=\"value\">16.0000000000000</field></block></value><value name=\"name\"><block type=\"basic_input_value\" id=\"0.10295770885435251\"><field name=\"value\">\"G29\"</field></block></value><next><block type=\"algeo_execute_set_name\" id=\"0.8735128162317239\"><value name=\"name\"><block type=\"basic_input_value\" id=\"0.518443406020884\"><field name=\"value\">\"FuncPoly\"</field></block></value><value name=\"code\"><block type=\"basic_input_value\" id=\"0.423227541213292\"><field name=\"value\">\"Polygon(F0,F1,F2,F3,F4,F5,F6,F7,F8,F9,F10,F11,F12,F13,F14,F15,F16,F17,F18,F19,F20,F21,F22,F23,F24,F25,F26,F27,F28,F29,G29,G28,G27,G26,G25,G24,G23,G22,G21,G20,G19,G18,G17,G16,G15,G14,G13,G12,G11,G10,G9,G8,G7,G6,G5,G4,G3,G2,G1,G0)\"</field></block></value><next><block type=\"turtle_all_dot_name_show_hide\" id=\"0.7426163995045049\"><field name=\"fielditem_object\">점과 점의 이름</field><field name=\"fielditem_object\">감추기</field></block><next /></next></block></next></block></next></block></next></block></next></block></next></block></next></block></next></block></next></block></next></block></next></block></next></block></next></block></next></block></next></block></next></block></next></block></next></block></next></block></next></block></next></block></next></block></next></block></next></block></next></block></next></block></next></block></next></block></next></block></next></block></next></block></next></block></next></block></next></block></next></block></next></block></next></block></next></block></next></block></next></block></next></block></next></block></next></block></next></block></next></block></next></block></next></block></next></block></next></block></next></block></next></block></next></block></next></block></next></block></next></block></next></block></next></block></next></block></next></block></next></block></next></block></next></block></next></block></next></block></xml>\n"
          ]
        }
      ],
      "source": [
        "# 코드 출력\n",
        "\n",
        "xml_string = builder.to_xml_string()\n",
        "print(xml_string.decode())\n"
      ]
    },
    {
      "cell_type": "code",
      "execution_count": null,
      "metadata": {
        "colab": {
          "base_uri": "https://localhost:8080/"
        },
        "id": "yNv8gVGkv_vj",
        "outputId": "3eeb693b-0f3b-4975-91a8-9ce6eb0ddb17"
      },
      "outputs": [
        {
          "output_type": "stream",
          "name": "stdout",
          "text": [
            "F0,F1,F2,F3,F4,F5,F6,F7,F8,F9,F10,F11,F12,F13,F14,F15,F16,F17,F18,F19,F20,F21,F22,F23,F24,F25,F26,F27,F28,F29,G29,G28,G27,G26,G25,G24,G23,G22,G21,G20,G19,G18,G17,G16,G15,G14,G13,G12,G11,G10,G9,G8,G7,G6,G5,G4,G3,G2,G1,G0\n"
          ]
        }
      ],
      "source": [
        "# 함수따라 다각형 만들어보기\n",
        "\n",
        "import sympy as sp\n",
        "import numpy as np # numpy는 배열관련 강력한 기능을 지원합니다.\n",
        "from python2algeomath import Builder\n",
        "\n",
        "builder = Builder()\n",
        "\n",
        "x, y, a, b, c = sp.symbols(\"x y a b c\")\n",
        "builder.init_variable([\"x\", \"y\", \"a\", \"i\"])\n",
        "\n",
        "# f 함수와 g함수 작성\n",
        "f = x**2+ 2*x +1\n",
        "g = 2**x\n",
        "\n",
        "# 일단 함수 그려보기\n",
        "builder.create_function_graph(sp.latex(f))\n",
        "builder.create_function_graph(sp.latex(g))\n",
        "\n",
        "\n",
        "# 1부터 4까지 30개로 쪼갬\n",
        "x_list = np.linspace(1, 4, 30)\n",
        "\n",
        "\n",
        "# (x, f(x))와 (x, g(x))를 30개 찍음\n",
        "for i, t in enumerate(x_list):\n",
        "  builder.add_dot_block(t, f.subs(x, t), f'\"F{i}\"')\n",
        "  builder.add_dot_block(t, g.subs(x, t), f'\"G{i}\"')\n",
        "\n",
        "# 이들을 모두 이은 다각형 생성\n",
        "# 순서대로 이을 목록 생성\n",
        "polygon_list = []\n",
        "\n",
        "# F0, F1, ... F29추가\n",
        "for i in range(30):\n",
        "  polygon_list.append(f\"F{i}\")\n",
        "# G29, G28, ... G1, G0 추가\n",
        "for i in range(30):\n",
        "  polygon_list.append(f\"G{29-i}\")\n",
        "# 쉼표로 구분되는 문자열로 변환\n",
        "polygonStr = \",\".join(polygon_list)\n",
        "print(polygonStr)\n",
        "# 다각형 생성\n",
        "builder.execute_set('\"FuncPoly\"', f'\"Polygon({polygonStr})\"')\n",
        "\n",
        "# 점 과 그 이름 모두 감추기\n",
        "builder.hide_point()"
      ]
    },
    {
      "cell_type": "code",
      "execution_count": null,
      "metadata": {
        "id": "ReT7ZbWyv_vj"
      },
      "outputs": [],
      "source": []
    }
  ],
  "metadata": {
    "kernelspec": {
      "display_name": "Python 3",
      "language": "python",
      "name": "python3"
    },
    "language_info": {
      "codemirror_mode": {
        "name": "ipython",
        "version": 3
      },
      "file_extension": ".py",
      "mimetype": "text/x-python",
      "name": "python",
      "nbconvert_exporter": "python",
      "pygments_lexer": "ipython3",
      "version": "3.10.0"
    },
    "colab": {
      "provenance": [],
      "include_colab_link": true
    }
  },
  "nbformat": 4,
  "nbformat_minor": 0
}