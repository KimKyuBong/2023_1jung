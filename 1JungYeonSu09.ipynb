{
  "nbformat": 4,
  "nbformat_minor": 0,
  "metadata": {
    "colab": {
      "provenance": [],
      "authorship_tag": "ABX9TyMhVp18s/gHf4lx0kWCHSeg",
      "include_colab_link": true
    },
    "kernelspec": {
      "name": "python3",
      "display_name": "Python 3"
    },
    "language_info": {
      "name": "python"
    }
  },
  "cells": [
    {
      "cell_type": "markdown",
      "metadata": {
        "id": "view-in-github",
        "colab_type": "text"
      },
      "source": [
        "<a href=\"https://colab.research.google.com/github/KimKyuBong/2023_1jung/blob/main/1JungYeonSu09.ipynb\" target=\"_parent\"><img src=\"https://colab.research.google.com/assets/colab-badge.svg\" alt=\"Open In Colab\"/></a>"
      ]
    },
    {
      "cell_type": "code",
      "execution_count": null,
      "metadata": {
        "colab": {
          "base_uri": "https://localhost:8080/",
          "height": 238
        },
        "id": "jcB2CenTVEIu",
        "outputId": "e24c6822-48ab-41be-dcbd-08e12248fb39"
      },
      "outputs": [
        {
          "output_type": "display_data",
          "data": {
            "text/plain": [
              "Eq(7*x + 8, 0)"
            ],
            "text/latex": "$\\displaystyle 7 x + 8 = 0$"
          },
          "metadata": {}
        },
        {
          "output_type": "display_data",
          "data": {
            "text/plain": [
              "Eq(x - 2, 0)"
            ],
            "text/latex": "$\\displaystyle x - 2 = 0$"
          },
          "metadata": {}
        },
        {
          "output_type": "display_data",
          "data": {
            "text/plain": [
              "Eq(9*x - 9, 0)"
            ],
            "text/latex": "$\\displaystyle 9 x - 9 = 0$"
          },
          "metadata": {}
        },
        {
          "output_type": "display_data",
          "data": {
            "text/plain": [
              "Eq(4*x - 1, 0)"
            ],
            "text/latex": "$\\displaystyle 4 x - 1 = 0$"
          },
          "metadata": {}
        },
        {
          "output_type": "display_data",
          "data": {
            "text/plain": [
              "Eq(9*x - 3, 0)"
            ],
            "text/latex": "$\\displaystyle 9 x - 3 = 0$"
          },
          "metadata": {}
        },
        {
          "output_type": "display_data",
          "data": {
            "text/plain": [
              "Eq(x + 5, 0)"
            ],
            "text/latex": "$\\displaystyle x + 5 = 0$"
          },
          "metadata": {}
        },
        {
          "output_type": "display_data",
          "data": {
            "text/plain": [
              "Eq(7*x + 7, 0)"
            ],
            "text/latex": "$\\displaystyle 7 x + 7 = 0$"
          },
          "metadata": {}
        },
        {
          "output_type": "display_data",
          "data": {
            "text/plain": [
              "Eq(7*x + 3, 0)"
            ],
            "text/latex": "$\\displaystyle 7 x + 3 = 0$"
          },
          "metadata": {}
        },
        {
          "output_type": "display_data",
          "data": {
            "text/plain": [
              "Eq(5*x, 0)"
            ],
            "text/latex": "$\\displaystyle 5 x = 0$"
          },
          "metadata": {}
        },
        {
          "output_type": "display_data",
          "data": {
            "text/plain": [
              "Eq(4*x - 5, 0)"
            ],
            "text/latex": "$\\displaystyle 4 x - 5 = 0$"
          },
          "metadata": {}
        }
      ],
      "source": [
        "#  일차방정식 10개 생성하기\n",
        "\n",
        "import sympy as sp\n",
        "import random as rd # 랜덤 숫자 생성을 random 라이브러리 import\n",
        "\n",
        "result = [] # 결과를 담을 리스트\n",
        "x =  sp.symbols(\"x\")\n",
        "\n",
        "while len(result) < 10: # result의 원소 개수가 10개가 될때까지 반복\n",
        "  a = rd.randint(1, 10) # 계수의 범위는 1부터 10까지\n",
        "  b = rd.randint(-10, 10) # 상수항의 범위는 0부터 10까지\n",
        "  eq = sp.Eq(a*x+b,0) # ax+b 생성\n",
        "  result.append(eq) # result에 추가\n",
        "\n",
        "for eq in result:# result에 담긴 eq들을\n",
        "    display(eq) # 하나씩 보여줌"
      ]
    },
    {
      "cell_type": "code",
      "source": [
        "# 서로 다른 해를 가지는 일차방정식 10개 생성하기\n",
        "\n",
        "import sympy as sp\n",
        "import random as rd # 랜덤 숫자 생성을 random 라이브러리 import\n",
        "\n",
        "result = [] # 결과를 담을 리스트\n",
        "x =  sp.symbols(\"x\")\n",
        "\n",
        "while len(result) < 10:\n",
        "  a = rd.randint(1, 10)\n",
        "  b = rd.randint(-10, 10)\n",
        "  eq = sp.Eq(a*x+b,0)\n",
        "\n",
        "  for ex_eq in result: #기존에 만들어진 방정식 중\n",
        "    if sp.solve(ex_eq) == sp.solve(eq): # 해가 같은것이 있다면\n",
        "      print(ex_eq,\"와\", eq, \"의 해는 같습니다.\")\n",
        "      continue # 아래과정을 진행하지 말고 다시 처음부터 진행\n",
        "\n",
        "  result.append(eq)\n",
        "\n",
        "for eq in result:# result에 담긴 eq들을\n",
        "    display(eq) # 하나씩 보여줌"
      ],
      "metadata": {
        "id": "slNrtKYeaBu-",
        "outputId": "e8db8651-baf7-4689-d2d2-06be74edf2d9",
        "colab": {
          "base_uri": "https://localhost:8080/",
          "height": 254
        }
      },
      "execution_count": null,
      "outputs": [
        {
          "output_type": "stream",
          "name": "stdout",
          "text": [
            "Eq(6*x - 8, 0) 와 Eq(6*x - 8, 0) 의 해는 같습니다.\n"
          ]
        },
        {
          "output_type": "display_data",
          "data": {
            "text/plain": [
              "Eq(8*x - 7, 0)"
            ],
            "text/latex": "$\\displaystyle 8 x - 7 = 0$"
          },
          "metadata": {}
        },
        {
          "output_type": "display_data",
          "data": {
            "text/plain": [
              "Eq(10*x + 5, 0)"
            ],
            "text/latex": "$\\displaystyle 10 x + 5 = 0$"
          },
          "metadata": {}
        },
        {
          "output_type": "display_data",
          "data": {
            "text/plain": [
              "Eq(2*x, 0)"
            ],
            "text/latex": "$\\displaystyle 2 x = 0$"
          },
          "metadata": {}
        },
        {
          "output_type": "display_data",
          "data": {
            "text/plain": [
              "Eq(10*x + 8, 0)"
            ],
            "text/latex": "$\\displaystyle 10 x + 8 = 0$"
          },
          "metadata": {}
        },
        {
          "output_type": "display_data",
          "data": {
            "text/plain": [
              "Eq(5*x + 10, 0)"
            ],
            "text/latex": "$\\displaystyle 5 x + 10 = 0$"
          },
          "metadata": {}
        },
        {
          "output_type": "display_data",
          "data": {
            "text/plain": [
              "Eq(3*x - 10, 0)"
            ],
            "text/latex": "$\\displaystyle 3 x - 10 = 0$"
          },
          "metadata": {}
        },
        {
          "output_type": "display_data",
          "data": {
            "text/plain": [
              "Eq(6*x - 9, 0)"
            ],
            "text/latex": "$\\displaystyle 6 x - 9 = 0$"
          },
          "metadata": {}
        },
        {
          "output_type": "display_data",
          "data": {
            "text/plain": [
              "Eq(9*x - 7, 0)"
            ],
            "text/latex": "$\\displaystyle 9 x - 7 = 0$"
          },
          "metadata": {}
        },
        {
          "output_type": "display_data",
          "data": {
            "text/plain": [
              "Eq(6*x - 8, 0)"
            ],
            "text/latex": "$\\displaystyle 6 x - 8 = 0$"
          },
          "metadata": {}
        },
        {
          "output_type": "display_data",
          "data": {
            "text/plain": [
              "Eq(6*x - 8, 0)"
            ],
            "text/latex": "$\\displaystyle 6 x - 8 = 0$"
          },
          "metadata": {}
        }
      ]
    },
    {
      "cell_type": "code",
      "source": [],
      "metadata": {
        "id": "TiUfwo2Pwyh3"
      },
      "execution_count": null,
      "outputs": []
    }
  ]
}