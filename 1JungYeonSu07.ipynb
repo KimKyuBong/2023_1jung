{
  "nbformat": 4,
  "nbformat_minor": 0,
  "metadata": {
    "colab": {
      "provenance": [],
      "authorship_tag": "ABX9TyOviGglQuy8GWPXcN42vRL1",
      "include_colab_link": true
    },
    "kernelspec": {
      "name": "python3",
      "display_name": "Python 3"
    },
    "language_info": {
      "name": "python"
    }
  },
  "cells": [
    {
      "cell_type": "markdown",
      "metadata": {
        "id": "view-in-github",
        "colab_type": "text"
      },
      "source": [
        "<a href=\"https://colab.research.google.com/github/KimKyuBong/2023_1jung/blob/main/1JungYeonSu07.ipynb\" target=\"_parent\"><img src=\"https://colab.research.google.com/assets/colab-badge.svg\" alt=\"Open In Colab\"/></a>"
      ]
    },
    {
      "cell_type": "code",
      "execution_count": null,
      "metadata": {
        "id": "hkI_TdwMRpgN"
      },
      "outputs": [],
      "source": [
        "import sympy as sp\n",
        "a, b, x, y = sp.symbols(\"a, b, x, y\")"
      ]
    },
    {
      "cell_type": "code",
      "source": [
        "f = sp.sin(x)/x\n",
        "\n",
        "# x가 0에 가까워질 때의 함수 f의 극한 계산\n",
        "limit_at_0 = sp.limit(f, x, 0)\n",
        "\n",
        "print(\"f(x)의 x=0에서의 극한:\", limit_at_0)"
      ],
      "metadata": {
        "colab": {
          "base_uri": "https://localhost:8080/"
        },
        "id": "DjcGu0Dif1QN",
        "outputId": "e4e73dd1-3e5b-42be-e8e4-6bb436efa5a4"
      },
      "execution_count": null,
      "outputs": [
        {
          "output_type": "stream",
          "name": "stdout",
          "text": [
            "f(x)의 x=0에서의 극한: 1\n"
          ]
        }
      ]
    },
    {
      "cell_type": "code",
      "source": [
        "func1 = x**2-sp.exp(x)+sp.sin(x)\n",
        "func1"
      ],
      "metadata": {
        "colab": {
          "base_uri": "https://localhost:8080/",
          "height": 39
        },
        "id": "BEQwwhEIRxsh",
        "outputId": "115de7c1-a239-4cc4-bd7b-d19d55e5598a"
      },
      "execution_count": null,
      "outputs": [
        {
          "output_type": "execute_result",
          "data": {
            "text/plain": [
              "x**2 - exp(x) + sin(x)"
            ],
            "text/latex": "$\\displaystyle x^{2} - e^{x} + \\sin{\\left(x \\right)}$"
          },
          "metadata": {},
          "execution_count": 3
        }
      ]
    },
    {
      "cell_type": "code",
      "source": [
        "sp.diff(func1)"
      ],
      "metadata": {
        "id": "v6c9W6I_R8p4",
        "outputId": "d319474f-d20a-498f-f77c-d53182ef719f",
        "colab": {
          "base_uri": "https://localhost:8080/",
          "height": 38
        }
      },
      "execution_count": null,
      "outputs": [
        {
          "output_type": "execute_result",
          "data": {
            "text/plain": [
              "2*x - exp(x) + cos(x)"
            ],
            "text/latex": "$\\displaystyle 2 x - e^{x} + \\cos{\\left(x \\right)}$"
          },
          "metadata": {},
          "execution_count": 4
        }
      ]
    },
    {
      "cell_type": "code",
      "source": [
        "sp.integrate(func1)"
      ],
      "metadata": {
        "id": "L2VwzD9aR-5-",
        "outputId": "821db99b-e9d9-40b8-c468-cc2952c2634c",
        "colab": {
          "base_uri": "https://localhost:8080/",
          "height": 54
        }
      },
      "execution_count": null,
      "outputs": [
        {
          "output_type": "execute_result",
          "data": {
            "text/plain": [
              "x**3/3 - exp(x) - cos(x)"
            ],
            "text/latex": "$\\displaystyle \\frac{x^{3}}{3} - e^{x} - \\cos{\\left(x \\right)}$"
          },
          "metadata": {},
          "execution_count": 5
        }
      ]
    },
    {
      "cell_type": "code",
      "source": [
        "expr = (x**2 + 2*x + 1)/(x**2 + x)\n",
        "simp_expr = sp.simplify(expr)\n",
        "\n",
        "print(\"원래 수식:\")\n",
        "display(expr)\n",
        "print(\"단순화된 수식:\")\n",
        "display(simp_expr)"
      ],
      "metadata": {
        "id": "zVjkpybOgAB8",
        "colab": {
          "base_uri": "https://localhost:8080/",
          "height": 126
        },
        "outputId": "bcc7f20d-f1a2-4d71-e07a-d0f0a50fc74f"
      },
      "execution_count": null,
      "outputs": [
        {
          "output_type": "stream",
          "name": "stdout",
          "text": [
            "원래 수식:\n"
          ]
        },
        {
          "output_type": "display_data",
          "data": {
            "text/plain": [
              "(x**2 + 2*x + 1)/(x**2 + x)"
            ],
            "text/latex": "$\\displaystyle \\frac{x^{2} + 2 x + 1}{x^{2} + x}$"
          },
          "metadata": {}
        },
        {
          "output_type": "stream",
          "name": "stdout",
          "text": [
            "단순화된 수식:\n"
          ]
        },
        {
          "output_type": "display_data",
          "data": {
            "text/plain": [
              "(x + 1)/x"
            ],
            "text/latex": "$\\displaystyle \\frac{x + 1}{x}$"
          },
          "metadata": {}
        }
      ]
    },
    {
      "cell_type": "code",
      "source": [
        "func1 = sp.sin(x)+sp.cos(x)\n",
        "sp.trigsimp(func1)"
      ],
      "metadata": {
        "colab": {
          "base_uri": "https://localhost:8080/",
          "height": 48
        },
        "id": "oo3fjom1enXL",
        "outputId": "1414a833-4a83-4b77-db63-0f0d65c76d1d"
      },
      "execution_count": null,
      "outputs": [
        {
          "output_type": "execute_result",
          "data": {
            "text/plain": [
              "sqrt(2)*sin(x + pi/4)"
            ],
            "text/latex": "$\\displaystyle \\sqrt{2} \\sin{\\left(x + \\frac{\\pi}{4} \\right)}$"
          },
          "metadata": {},
          "execution_count": 10
        }
      ]
    }
  ]
}