{
  "nbformat": 4,
  "nbformat_minor": 0,
  "metadata": {
    "colab": {
      "provenance": [],
      "authorship_tag": "ABX9TyOT5Q4Mzlm/IdzLt0tXpuuX",
      "include_colab_link": true
    },
    "kernelspec": {
      "name": "python3",
      "display_name": "Python 3"
    },
    "language_info": {
      "name": "python"
    }
  },
  "cells": [
    {
      "cell_type": "markdown",
      "metadata": {
        "id": "view-in-github",
        "colab_type": "text"
      },
      "source": [
        "<a href=\"https://colab.research.google.com/github/KimKyuBong/2023_1jung/blob/main/1JungYeonSu03.ipynb\" target=\"_parent\"><img src=\"https://colab.research.google.com/assets/colab-badge.svg\" alt=\"Open In Colab\"/></a>"
      ]
    },
    {
      "cell_type": "code",
      "execution_count": null,
      "metadata": {
        "colab": {
          "base_uri": "https://localhost:8080/"
        },
        "id": "MGadOzRJVIa7",
        "outputId": "6dbdec38-59fe-4f92-d4b9-6004849ab6f6"
      },
      "outputs": [
        {
          "output_type": "stream",
          "name": "stdout",
          "text": [
            "5\n",
            "-4\n",
            "12\n",
            "49\n",
            "3.3333333333333335\n",
            "3\n",
            "1\n"
          ]
        }
      ],
      "source": [
        "# 산술연산자\n",
        "\n",
        "print(3 + 2) # 덧셈\n",
        "print(5 - 9) # 뺄셈\n",
        "print(4 * 3) # 곱셈\n",
        "print(7 ** 2) # 거듭제곱\n",
        "print(10 / 3) # 나눗셈(실수형)\n",
        "print(10 // 3) # 나눗셈(몫, 정수형)\n",
        "print(10 % 3) # 나눗셈(나머지, 정수형)\n"
      ]
    },
    {
      "cell_type": "code",
      "source": [
        "# 비교 연산자\n",
        "# 주의, a=b는 a에 b를 대입하는 의미로 사용되므로 구분할 것\n",
        "\n",
        "print(3 == 2) # 비교할 땐 등호 2개!\n",
        "print(5 != 4) # 다른경우를 찾고자 할땐 등호 앞에 느낌표!\n",
        "print(3 > 2) # 부등식은 알던대로\n",
        "print(6 <= 4) # 다만 등호가 오른쪽 끝에옴\n"
      ],
      "metadata": {
        "colab": {
          "base_uri": "https://localhost:8080/"
        },
        "id": "TlnysagmWUgA",
        "outputId": "13de3513-0c33-42a0-ab36-215c1e196d2b"
      },
      "execution_count": null,
      "outputs": [
        {
          "output_type": "stream",
          "name": "stdout",
          "text": [
            "False\n",
            "True\n",
            "True\n",
            "False\n"
          ]
        }
      ]
    },
    {
      "cell_type": "code",
      "source": [
        "# 논리 연산자\n",
        "# 아래와 같이 참 거짓을 나타내는 자료형을 bool자료형이라 한다.\n",
        "A = True\n",
        "B = False\n",
        "print(not A) # 부정\n",
        "print(A and B) # 논리곱\n",
        "print(A or B) # 논리합\n"
      ],
      "metadata": {
        "colab": {
          "base_uri": "https://localhost:8080/"
        },
        "id": "nim1yQTJYkL3",
        "outputId": "2439059c-e4b8-41ac-a018-9f5c8f2f554f"
      },
      "execution_count": null,
      "outputs": [
        {
          "output_type": "stream",
          "name": "stdout",
          "text": [
            "False\n",
            "False\n",
            "True\n"
          ]
        }
      ]
    }
  ]
}