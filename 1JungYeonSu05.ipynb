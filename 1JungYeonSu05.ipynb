{
  "nbformat": 4,
  "nbformat_minor": 0,
  "metadata": {
    "colab": {
      "provenance": [],
      "authorship_tag": "ABX9TyOajYYFAOcT6fNs/w2wZ0ye",
      "include_colab_link": true
    },
    "kernelspec": {
      "name": "python3",
      "display_name": "Python 3"
    },
    "language_info": {
      "name": "python"
    }
  },
  "cells": [
    {
      "cell_type": "markdown",
      "metadata": {
        "id": "view-in-github",
        "colab_type": "text"
      },
      "source": [
        "<a href=\"https://colab.research.google.com/github/KimKyuBong/2023_1jung/blob/main/1JungYeonSu05.ipynb\" target=\"_parent\"><img src=\"https://colab.research.google.com/assets/colab-badge.svg\" alt=\"Open In Colab\"/></a>"
      ]
    },
    {
      "cell_type": "code",
      "execution_count": null,
      "metadata": {
        "id": "wfBp4bCmxBEb",
        "colab": {
          "base_uri": "https://localhost:8080/"
        },
        "outputId": "49230c9f-7b9d-49fa-a972-00ebb2d95ff0"
      },
      "outputs": [
        {
          "output_type": "stream",
          "name": "stdout",
          "text": [
            "입력도 출력도 없는 함수\n",
            "입력도 출력도 없는 함수\n",
            "None\n",
            "9\n"
          ]
        }
      ],
      "source": [
        "# 함수 정의하기\n",
        "# 입출력이 없는 단순기능 함수\n",
        "def MyFunc1(): # def 도 함수 내에 코드를 품고 있으므로 콜론+들여쓰기\n",
        "  print(\"입력도 출력도 없는 함수\")\n",
        "\n",
        "MyFunc1() # 이렇게 함수를 호출하면 작동한다.\n",
        "\n",
        "# 프린트에 넣으면 함수가 호출되므로 한번 더 내부 코드는 동작하지만\n",
        "print(MyFunc1()) # 리턴값(출력값)은 없으므로 None이 나온다.\n",
        "\n",
        "\n",
        "# 입출력이 모두 있는 함수\n",
        "def MyFunc2(x): # x를 입력받으며\n",
        "  return(2*x-1) # 2x-1을 계산하여 반환함\n",
        "\n",
        "ans = MyFunc2(5) # MyFunc2에 5를 입력한 값 ans에 저장\n",
        "\n",
        "print(ans) # ans 출력"
      ]
    },
    {
      "cell_type": "code",
      "source": [
        "# 함수의 추상화 예시\n",
        "# 덧셈 함수 정의\n",
        "def add(a, b):\n",
        "  return(a+b)\n",
        "# 위를 이용하여 곱셈 정의\n",
        "def mul(a, b):\n",
        "  answer = 0\n",
        "  for i in range(b): # b번 반복\n",
        "    answer = add(a,answer) # answer에 a를 add를 이용하여 더함\n",
        "  return(answer)\n",
        "\n",
        "mul(3, 4)"
      ],
      "metadata": {
        "id": "PVZoA2Jd0kab",
        "colab": {
          "base_uri": "https://localhost:8080/"
        },
        "outputId": "b42d177b-74b9-4f67-f9af-4658f5b1f288"
      },
      "execution_count": null,
      "outputs": [
        {
          "output_type": "execute_result",
          "data": {
            "text/plain": [
              "12"
            ]
          },
          "metadata": {},
          "execution_count": 6
        }
      ]
    }
  ]
}