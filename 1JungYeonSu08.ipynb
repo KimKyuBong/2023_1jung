{
  "nbformat": 4,
  "nbformat_minor": 0,
  "metadata": {
    "colab": {
      "provenance": [],
      "authorship_tag": "ABX9TyOZpZOvWQAjMvqY/rtusukM",
      "include_colab_link": true
    },
    "kernelspec": {
      "name": "python3",
      "display_name": "Python 3"
    },
    "language_info": {
      "name": "python"
    }
  },
  "cells": [
    {
      "cell_type": "markdown",
      "metadata": {
        "id": "view-in-github",
        "colab_type": "text"
      },
      "source": [
        "<a href=\"https://colab.research.google.com/github/KimKyuBong/2023_1jung/blob/main/1JungYeonSu08.ipynb\" target=\"_parent\"><img src=\"https://colab.research.google.com/assets/colab-badge.svg\" alt=\"Open In Colab\"/></a>"
      ]
    },
    {
      "cell_type": "code",
      "execution_count": null,
      "metadata": {
        "colab": {
          "base_uri": "https://localhost:8080/",
          "height": 39
        },
        "id": "45CJrHNFjDvS",
        "outputId": "408bb63c-37f6-457e-c196-678cfe6ccc50"
      },
      "outputs": [
        {
          "output_type": "execute_result",
          "data": {
            "text/plain": [
              "x**3 - 1"
            ],
            "text/latex": "$\\displaystyle x^{3} - 1$"
          },
          "metadata": {},
          "execution_count": 1
        }
      ],
      "source": [
        "import sympy as sp\n",
        "\n",
        "x = sp.symbols(\"x\")\n",
        "expr = x**3-1\n",
        "expr"
      ]
    },
    {
      "cell_type": "code",
      "source": [
        "sp.latex(expr)"
      ],
      "metadata": {
        "colab": {
          "base_uri": "https://localhost:8080/",
          "height": 35
        },
        "id": "mv7bxOazjOLW",
        "outputId": "9e701230-8ee3-4aec-d5c2-c02702cb6261"
      },
      "execution_count": null,
      "outputs": [
        {
          "output_type": "execute_result",
          "data": {
            "text/plain": [
              "'x^{3} - 1'"
            ],
            "application/vnd.google.colaboratory.intrinsic+json": {
              "type": "string"
            }
          },
          "metadata": {},
          "execution_count": 2
        }
      ]
    },
    {
      "cell_type": "code",
      "source": [
        "x, y = sp.symbols(\"x y\")\n",
        "\n",
        "# y = x^2-3x+1 의 식을 구성\n",
        "expr = x**2-3*x+1\n",
        "eq = sp.Eq(y, expr)\n",
        "\n",
        "# 이를 x에 대해 풀어내고 sol에 저장\n",
        "sol = sp.solve(eq,x)\n",
        "\n",
        "# sol에 있는 함수 하나씩 꺼내기\n",
        "for f in sol:\n",
        "  f_inv = f.subs(y, x) #  f의 x에 y대입\n",
        "  display(sp.Eq(y, f_inv)) # y=f(x)형태의 등식\n",
        "  print(\"\")# 한줄 띄기"
      ],
      "metadata": {
        "colab": {
          "base_uri": "https://localhost:8080/",
          "height": 129
        },
        "id": "bNTfoDffjw91",
        "outputId": "5ec29973-da6a-4cb4-9181-08562791cf71"
      },
      "execution_count": null,
      "outputs": [
        {
          "output_type": "display_data",
          "data": {
            "text/plain": [
              "Eq(y, 3/2 - sqrt(4*x + 5)/2)"
            ],
            "text/latex": "$\\displaystyle y = \\frac{3}{2} - \\frac{\\sqrt{4 x + 5}}{2}$"
          },
          "metadata": {}
        },
        {
          "output_type": "stream",
          "name": "stdout",
          "text": [
            "\n"
          ]
        },
        {
          "output_type": "display_data",
          "data": {
            "text/plain": [
              "Eq(y, sqrt(4*x + 5)/2 + 3/2)"
            ],
            "text/latex": "$\\displaystyle y = \\frac{\\sqrt{4 x + 5}}{2} + \\frac{3}{2}$"
          },
          "metadata": {}
        },
        {
          "output_type": "stream",
          "name": "stdout",
          "text": [
            "\n"
          ]
        }
      ]
    },
    {
      "cell_type": "code",
      "source": [],
      "metadata": {
        "id": "QnNOiy_CkDl0"
      },
      "execution_count": null,
      "outputs": []
    }
  ]
}