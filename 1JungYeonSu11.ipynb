{
 "cells": [
  {
   "cell_type": "code",
   "execution_count": 71,
   "metadata": {},
   "outputs": [
    {
     "name": "stdout",
     "output_type": "stream",
     "text": [
      "[17, 19, 22] 둔각\n",
      "[8, 10, 15] 예각\n",
      "[10, 13, 16] 둔각\n",
      "[16, 26, 36] 예각\n",
      "[17, 23, 32] 예각\n",
      "[20, 28, 33] 둔각\n",
      "[9, 12, 15] 직각\n",
      "[6, 8, 10] 직각\n",
      "[12, 16, 20] 직각\n",
      "[[17, 19, 22], [8, 10, 15], [10, 13, 16], [16, 26, 36], [17, 23, 32], [20, 28, 33], [9, 12, 15], [6, 8, 10], [12, 16, 20]]\n",
      "['둔각', '예각', '둔각', '예각', '예각', '둔각', '직각', '직각', '직각']\n"
     ]
    }
   ],
   "source": [
    "# 예각, 둔각, 직각 삼각형 각각 3개씩 가져오기\n",
    "import random as rd\n",
    "result = []\n",
    "style = []\n",
    "while len(result) < 9:\n",
    "  # a < b <c 순으로 변의 길이 가져오기\n",
    "  a = rd.randint(1, 20)\n",
    "  b = a + rd.randint(0, 10)\n",
    "  c = b + rd.randint(0, 10)\n",
    "  \n",
    "  # 삼각형이 안되는 경우와, 중복한 경우는 제외함\n",
    "  if a + b <= c or [a, b, c] in result:\n",
    "    continue\n",
    "\n",
    "  # 피타고라스정리로 예각, 둔각, 직각 판별\n",
    "  if a**2 + b**2 == c**2 and style.count(\"직각\") < 3:\n",
    "    result.append([a, b, c])\n",
    "    style.append(\"직각\")\n",
    "    print([a, b, c], \"직각\")\n",
    "  elif a**2 + b**2 < c**2 and style.count(\"예각\") < 3:\n",
    "    result.append([a, b, c])\n",
    "    style.append(\"예각\")\n",
    "    print([a, b, c], \"예각\")\n",
    "  elif a**2 + b**2 > c**2 and style.count(\"둔각\") < 3:\n",
    "    result.append([a, b, c])\n",
    "    style.append(\"둔각\")\n",
    "    print([a, b, c], \"둔각\")\n",
    "  \n",
    "print(result)\n",
    "print(style)"
   ]
  },
  {
   "cell_type": "code",
   "execution_count": 1,
   "metadata": {},
   "outputs": [
    {
     "name": "stdout",
     "output_type": "stream",
     "text": [
      "y = x \\tan{\\left(\\frac{\\pi}{18} \\right)} + 2\n",
      "y = x \\tan{\\left(\\frac{\\pi}{18} \\right)} + 4\n",
      "y = x \\tan{\\left(\\frac{7 \\pi}{18} \\right)} + 7\n"
     ]
    }
   ],
   "source": [
    "# 여러개의 직선 만들기\n",
    "import sympy as sp\n",
    "# 각도로 기울기를 구하는 함수 구현\n",
    "def incli(degree):\n",
    "  return sp.tan(sp.rad(degree)) #rad는 degree단위를 radian으로 바꿔준다\n",
    "\n",
    "x, y = sp.symbols(\"x y\")\n",
    "# 원하는대로 직선 만들기\n",
    "line1 = sp.Eq(y, incli(10)*x + 2)\n",
    "line2 = sp.Eq(y, incli(10)*x + 4)\n",
    "line3 = sp.Eq(y, incli(70)*x + 7)\n",
    "# result에 저장\n",
    "result = [line1, line2, line3]\n",
    "\n",
    "# latex로 출력하여 사용하기\n",
    "for line in result:\n",
    "  print(sp.latex(line))"
   ]
  },
  {
   "cell_type": "code",
   "execution_count": null,
   "metadata": {},
   "outputs": [],
   "source": []
  }
 ],
 "metadata": {
  "kernelspec": {
   "display_name": "Python 3",
   "language": "python",
   "name": "python3"
  },
  "language_info": {
   "codemirror_mode": {
    "name": "ipython",
    "version": 3
   },
   "file_extension": ".py",
   "mimetype": "text/x-python",
   "name": "python",
   "nbconvert_exporter": "python",
   "pygments_lexer": "ipython3",
   "version": "3.10.0"
  }
 },
 "nbformat": 4,
 "nbformat_minor": 2
}
