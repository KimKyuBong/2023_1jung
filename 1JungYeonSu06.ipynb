{
  "cells": [
    {
      "cell_type": "markdown",
      "metadata": {
        "colab_type": "text",
        "id": "view-in-github"
      },
      "source": [
        "<a href=\"https://colab.research.google.com/github/KimKyuBong/2023_1jung/blob/main/1JungYeonSu06.ipynb\" target=\"_parent\"><img src=\"https://colab.research.google.com/assets/colab-badge.svg\" alt=\"Open In Colab\"/></a>"
      ]
    },
    {
      "cell_type": "code",
      "execution_count": null,
      "metadata": {
        "colab": {
          "base_uri": "https://localhost:8080/",
          "height": 184
        },
        "id": "KkKHYr7yA_0C",
        "outputId": "59450d3b-3417-4e7f-c603-d6d872f5f59d"
      },
      "outputs": [
        {
          "ename": "NameError",
          "evalue": "ignored",
          "output_type": "error",
          "traceback": [
            "\u001b[0;31m---------------------------------------------------------------------------\u001b[0m",
            "\u001b[0;31mNameError\u001b[0m                                 Traceback (most recent call last)",
            "\u001b[0;32m<ipython-input-2-275096706164>\u001b[0m in \u001b[0;36m<cell line: 1>\u001b[0;34m()\u001b[0m\n\u001b[0;32m----> 1\u001b[0;31m \u001b[0mprint\u001b[0m\u001b[0;34m(\u001b[0m\u001b[0;34m(\u001b[0m\u001b[0;36m2\u001b[0m\u001b[0;34m*\u001b[0m\u001b[0mx\u001b[0m\u001b[0;34m+\u001b[0m\u001b[0;36m3\u001b[0m\u001b[0;34m)\u001b[0m\u001b[0;34m+\u001b[0m\u001b[0;34m(\u001b[0m\u001b[0;36m4\u001b[0m\u001b[0;34m*\u001b[0m\u001b[0mx\u001b[0m\u001b[0;34m-\u001b[0m\u001b[0;36m7\u001b[0m\u001b[0;34m*\u001b[0m\u001b[0my\u001b[0m\u001b[0;34m)\u001b[0m\u001b[0;34m)\u001b[0m\u001b[0;34m\u001b[0m\u001b[0;34m\u001b[0m\u001b[0m\n\u001b[0m",
            "\u001b[0;31mNameError\u001b[0m: name 'y' is not defined"
          ]
        }
      ],
      "source": [
        "print((2*x+3)+(4*x-7*y))"
      ]
    },
    {
      "cell_type": "code",
      "execution_count": null,
      "metadata": {
        "colab": {
          "base_uri": "https://localhost:8080/",
          "height": 39
        },
        "id": "X4PK3Fy7_309",
        "outputId": "a746f5a4-15d3-4fee-c684-b70f5f2a1d42"
      },
      "outputs": [
        {
          "data": {
            "text/latex": [
              "$\\displaystyle a x - x^{3} - 2 y + 3$"
            ],
            "text/plain": [
              "a*x - x**3 - 2*y + 3"
            ]
          },
          "execution_count": 2,
          "metadata": {},
          "output_type": "execute_result"
        }
      ],
      "source": [
        "# sympy라이브러리를 사용하기 위해 import한다.\n",
        "import sympy as sp # as는 별칭을 지정하기 위해 사용한다.\n",
        "\n",
        "\n",
        "# x, y, a를 문자로 사용할 심볼로 선언함\n",
        "x, y, a = sp.symbols(\"x y a\")\n",
        "\n",
        "# 이제는 우리가 알고 있는 문자변수로 사용가능하다.\n",
        "a*x+2*y+3-(4*y+x**3)"
      ]
    },
    {
      "cell_type": "code",
      "execution_count": null,
      "metadata": {
        "colab": {
          "base_uri": "https://localhost:8080/",
          "height": 39
        },
        "id": "hp72ZRI1ChAT",
        "outputId": "f5933384-a048-4c87-a6b7-8bfe32431096"
      },
      "outputs": [
        {
          "data": {
            "text/latex": [
              "$\\displaystyle \\left(x - 1\\right) \\left(2 x + 3\\right)$"
            ],
            "text/plain": [
              "(x - 1)*(2*x + 3)"
            ]
          },
          "execution_count": 3,
          "metadata": {},
          "output_type": "execute_result"
        }
      ],
      "source": [
        "# 식 선언\n",
        "expr1 = (x-1)*(2*x+3)\n",
        "expr1"
      ]
    },
    {
      "cell_type": "code",
      "execution_count": null,
      "metadata": {
        "colab": {
          "base_uri": "https://localhost:8080/",
          "height": 35
        },
        "id": "TvadCpi-9cnP",
        "outputId": "8cda8651-fdca-4be1-84f3-9138935517d7"
      },
      "outputs": [
        {
          "data": {
            "application/vnd.google.colaboratory.intrinsic+json": {
              "type": "string"
            },
            "text/plain": [
              "'\\\\left(x - 1\\\\right) \\\\left(2 x + 3\\\\right)'"
            ]
          },
          "execution_count": 4,
          "metadata": {},
          "output_type": "execute_result"
        }
      ],
      "source": [
        "sp.latex(expr1)"
      ]
    },
    {
      "cell_type": "code",
      "execution_count": null,
      "metadata": {
        "colab": {
          "base_uri": "https://localhost:8080/",
          "height": 38
        },
        "id": "nqt39z7HEy24",
        "outputId": "3af883e8-9566-4e36-a792-c28c878f08da"
      },
      "outputs": [
        {
          "data": {
            "text/latex": [
              "$\\displaystyle 2 x^{2} + x - 3$"
            ],
            "text/plain": [
              "2*x**2 + x - 3"
            ]
          },
          "execution_count": 10,
          "metadata": {},
          "output_type": "execute_result"
        }
      ],
      "source": [
        "# 위의 식 전개하기\n",
        "\n",
        "sp.expand(expr1)"
      ]
    },
    {
      "cell_type": "code",
      "execution_count": null,
      "metadata": {
        "colab": {
          "base_uri": "https://localhost:8080/",
          "height": 37
        },
        "id": "hvbf2X9DXepT",
        "outputId": "6a5c511c-fcf4-46f9-e084-dd74e21ad358"
      },
      "outputs": [
        {
          "data": {
            "text/latex": [
              "$\\displaystyle 33$"
            ],
            "text/plain": [
              "33"
            ]
          },
          "execution_count": 5,
          "metadata": {},
          "output_type": "execute_result"
        }
      ],
      "source": [
        "# 식에 대입하기\n",
        "\n",
        "expr1.subs(x, 4)"
      ]
    },
    {
      "cell_type": "code",
      "execution_count": null,
      "metadata": {
        "colab": {
          "base_uri": "https://localhost:8080/",
          "height": 38
        },
        "id": "d59VNKQKFjQS",
        "outputId": "eeb8a8bd-359d-479c-9ec4-e5ac2894cd68"
      },
      "outputs": [
        {
          "data": {
            "text/latex": [
              "$\\displaystyle x^{3} - 3 x^{2} + 3 x - 1$"
            ],
            "text/plain": [
              "x**3 - 3*x**2 + 3*x - 1"
            ]
          },
          "execution_count": 11,
          "metadata": {},
          "output_type": "execute_result"
        }
      ],
      "source": [
        "expr2 = x**3-3*x**2+3*x-1\n",
        "expr2"
      ]
    },
    {
      "cell_type": "code",
      "execution_count": null,
      "metadata": {
        "colab": {
          "base_uri": "https://localhost:8080/",
          "height": 39
        },
        "id": "fsk-FtbtFrsp",
        "outputId": "9e3e0e06-463e-4815-bb04-496d79e90184"
      },
      "outputs": [
        {
          "data": {
            "text/latex": [
              "$\\displaystyle \\left(x - 1\\right)^{3}$"
            ],
            "text/plain": [
              "(x - 1)**3"
            ]
          },
          "execution_count": 12,
          "metadata": {},
          "output_type": "execute_result"
        }
      ],
      "source": [
        "sp.factor(expr2)"
      ]
    },
    {
      "cell_type": "code",
      "execution_count": null,
      "metadata": {
        "colab": {
          "base_uri": "https://localhost:8080/",
          "height": 38
        },
        "id": "Jt3PNxfzGAQl",
        "outputId": "a054594a-a38e-4e40-8e7c-acf56b4cd0d8"
      },
      "outputs": [
        {
          "data": {
            "text/latex": [
              "$\\displaystyle x^{2} - 2 x$"
            ],
            "text/plain": [
              "x**2 - 2*x"
            ]
          },
          "execution_count": 15,
          "metadata": {},
          "output_type": "execute_result"
        }
      ],
      "source": [
        "expr3 = x**2-2*x\n",
        "expr3"
      ]
    },
    {
      "cell_type": "code",
      "execution_count": null,
      "metadata": {
        "colab": {
          "base_uri": "https://localhost:8080/",
          "height": 38
        },
        "id": "Da4WimdrGFks",
        "outputId": "ac1dd7f7-9f11-4ceb-d098-35c84a09ffd9"
      },
      "outputs": [
        {
          "data": {
            "text/latex": [
              "$\\displaystyle x^{2} - 2 x = 3$"
            ],
            "text/plain": [
              "Eq(x**2 - 2*x, 3)"
            ]
          },
          "execution_count": 19,
          "metadata": {},
          "output_type": "execute_result"
        }
      ],
      "source": [
        "eq1 = sp.Eq(expr3,3)\n",
        "eq1"
      ]
    },
    {
      "cell_type": "code",
      "execution_count": null,
      "metadata": {
        "colab": {
          "base_uri": "https://localhost:8080/",
          "height": 38
        },
        "id": "KQ9v-2D6O679",
        "outputId": "71cdc215-9f36-49d8-b259-277682e450e8"
      },
      "outputs": [
        {
          "data": {
            "text/latex": [
              "$\\displaystyle x - 2 \\geq 3$"
            ],
            "text/plain": [
              "x - 2 >= 3"
            ]
          },
          "execution_count": 18,
          "metadata": {},
          "output_type": "execute_result"
        }
      ],
      "source": [
        "ineq1 = x - 2 >= 3\n",
        "\n",
        "ineq1"
      ]
    },
    {
      "cell_type": "code",
      "execution_count": null,
      "metadata": {
        "colab": {
          "base_uri": "https://localhost:8080/"
        },
        "id": "r0-xnXnXPdD6",
        "outputId": "9f6f8129-b2db-480e-b0d8-ccc0a93fe157"
      },
      "outputs": [
        {
          "data": {
            "text/plain": [
              "[-1, 3]"
            ]
          },
          "execution_count": 20,
          "metadata": {},
          "output_type": "execute_result"
        }
      ],
      "source": [
        "sp.solve(eq1)"
      ]
    },
    {
      "cell_type": "code",
      "execution_count": null,
      "metadata": {
        "colab": {
          "base_uri": "https://localhost:8080/",
          "height": 38
        },
        "id": "kmtyO9KEPvf8",
        "outputId": "00b94a35-569c-4d54-a371-47bff1b1177b"
      },
      "outputs": [
        {
          "data": {
            "text/latex": [
              "$\\displaystyle 5 \\leq x \\wedge x < \\infty$"
            ],
            "text/plain": [
              "(5 <= x) & (x < oo)"
            ]
          },
          "execution_count": 21,
          "metadata": {},
          "output_type": "execute_result"
        }
      ],
      "source": [
        "sp.solve(ineq1)"
      ]
    },
    {
      "cell_type": "code",
      "execution_count": null,
      "metadata": {
        "colab": {
          "base_uri": "https://localhost:8080/"
        },
        "id": "QwqDI5pYQjDM",
        "outputId": "acc3e169-5cd7-4377-f3ce-aaad2efb978e"
      },
      "outputs": [
        {
          "data": {
            "text/plain": [
              "[-b/a]"
            ]
          },
          "execution_count": 4,
          "metadata": {},
          "output_type": "execute_result"
        }
      ],
      "source": [
        "a, b, x = sp.symbols(\"a b x\")\n",
        "eq2 = sp.Eq(a*x+b,0)\n",
        "sp.solve(eq2, x)"
      ]
    },
    {
      "cell_type": "code",
      "execution_count": null,
      "metadata": {
        "id": "HtDzIyeugsCX"
      },
      "outputs": [],
      "source": [
        "eq1 = sp.Eq(3*x+2*y, 1)\n",
        "eq2 = sp.Eq(5*x-y, 2)\n",
        "sp.solve([eq1, eq2], [x, y])"
      ]
    }
  ],
  "metadata": {
    "colab": {
      "authorship_tag": "ABX9TyNj8o8LL6n/rbM2zO/6H8k+",
      "include_colab_link": true,
      "provenance": []
    },
    "kernelspec": {
      "display_name": "Python 3",
      "name": "python3"
    },
    "language_info": {
      "name": "python",
      "version": "3.10.0"
    }
  },
  "nbformat": 4,
  "nbformat_minor": 0
}
