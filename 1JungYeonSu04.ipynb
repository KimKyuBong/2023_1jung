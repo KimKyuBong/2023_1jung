{
  "nbformat": 4,
  "nbformat_minor": 0,
  "metadata": {
    "colab": {
      "provenance": [],
      "authorship_tag": "ABX9TyNzBdGUIx6dR6/f5ve78ZLr",
      "include_colab_link": true
    },
    "kernelspec": {
      "name": "python3",
      "display_name": "Python 3"
    },
    "language_info": {
      "name": "python"
    }
  },
  "cells": [
    {
      "cell_type": "markdown",
      "metadata": {
        "id": "view-in-github",
        "colab_type": "text"
      },
      "source": [
        "<a href=\"https://colab.research.google.com/github/KimKyuBong/2023_1jung/blob/main/1JungYeonSu04.ipynb\" target=\"_parent\"><img src=\"https://colab.research.google.com/assets/colab-badge.svg\" alt=\"Open In Colab\"/></a>"
      ]
    },
    {
      "cell_type": "code",
      "execution_count": null,
      "metadata": {
        "colab": {
          "base_uri": "https://localhost:8080/"
        },
        "id": "ohf-asVgaKIg",
        "outputId": "42870aac-934f-4f71-8b4f-f30d64d3a6fd"
      },
      "outputs": [
        {
          "output_type": "stream",
          "name": "stdout",
          "text": [
            "3 (은)는 양수입니다\n"
          ]
        }
      ],
      "source": [
        "# 조건문 맛보기(양수 음수 판정하기)\n",
        "x = 3\n",
        "if (x > 0): # 첫번째 조건은 if로 걸어준다.\n",
        "  print(x, \"(은)는 양수입니다\")\n",
        "  # if 내부의 코드는 들여쓰기가 되어야 함.\n",
        "elif(x < 0):\n",
        "  # 두번째, 세번째, ... n번째 조건은 elif로 적는다.\n",
        "  print(x, \"(은)는 음수입니다\")\n",
        "else:\n",
        "  print(x, \"(은)는 0입니다.\")\n",
        "  # else는 위 모든 조건이 성립하지 않을 때 실행하는 코드\n",
        "# 들여쓰기는 코드를 품었다는 의미로 해석 가능"
      ]
    },
    {
      "cell_type": "code",
      "source": [
        "# 반복문(for)\n",
        "\n",
        "answer = 0 # 답을 저장할 변수 초기화\n",
        "\n",
        "for k in range(1, 11): # k를 1이상 11미만의 정수 하나씩 순서대로 대응시킴\n",
        "  # for문도 반복할 코드를 담으므로, 콜론 다음 들여쓰기를 해야 한다.\n",
        "\n",
        "  answer = answer + (2*k-1) # answer에 계속 누적하여 저장\n",
        "  # 위 표현은 answer += (2*k -1) 로 간단하게 쓸 수 있다.\n",
        "\n",
        "print(answer) # 반복이 끝나면 출력"
      ],
      "metadata": {
        "id": "im568Kx5elPN",
        "colab": {
          "base_uri": "https://localhost:8080/"
        },
        "outputId": "b0de3ff0-127d-467d-e453-0d6d288e1b84"
      },
      "execution_count": null,
      "outputs": [
        {
          "output_type": "stream",
          "name": "stdout",
          "text": [
            "100\n"
          ]
        }
      ]
    },
    {
      "cell_type": "code",
      "source": [
        "# 반복문(while)\n",
        "\n",
        "answer = 0\n",
        "k = 1 # 변화할 변수도 초기화\n",
        "while k <= 10: # k가 10이하일때 계속 반복\n",
        "\n",
        "  answer += 2*k-1\n",
        "  # answer에 계속 누적하여 저장\n",
        "\n",
        "  k += 1\n",
        "  # k도 1증가 시킴\n",
        "\n",
        "print(answer) # 반복이 끝나면 출력"
      ],
      "metadata": {
        "colab": {
          "base_uri": "https://localhost:8080/"
        },
        "id": "LoTgnuTjtZ8h",
        "outputId": "ad33f807-c0cb-4d04-a1f8-9a36edb03e9d"
      },
      "execution_count": null,
      "outputs": [
        {
          "output_type": "stream",
          "name": "stdout",
          "text": [
            "100\n"
          ]
        }
      ]
    }
  ]
}