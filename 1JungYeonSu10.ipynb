{
  "nbformat": 4,
  "nbformat_minor": 0,
  "metadata": {
    "colab": {
      "provenance": [],
      "authorship_tag": "ABX9TyO/3qt4ewjzDeMHpLojQ63z",
      "include_colab_link": true
    },
    "kernelspec": {
      "name": "python3",
      "display_name": "Python 3"
    },
    "language_info": {
      "name": "python"
    }
  },
  "cells": [
    {
      "cell_type": "markdown",
      "metadata": {
        "id": "view-in-github",
        "colab_type": "text"
      },
      "source": [
        "<a href=\"https://colab.research.google.com/github/KimKyuBong/2023_1jung/blob/main/1JungYeonSu10.ipynb\" target=\"_parent\"><img src=\"https://colab.research.google.com/assets/colab-badge.svg\" alt=\"Open In Colab\"/></a>"
      ]
    },
    {
      "cell_type": "code",
      "source": [
        "import sympy as sp\n",
        "import random as rd\n",
        "# 입력한 그대로를 출력하고자 함(기본적으로는 입력한 수식을 정렬함)\n",
        "sp.init_printing(order=None)\n",
        "\n",
        "# 변수 4개 사용\n",
        "x, y, a, b = sp.symbols(\"x y a b\")\n",
        "\n",
        "# 식 3개가 담겨있는 리스트 result 생성\n",
        "exer1 = y/x + b/a\n",
        "exer2 = x**2 + y**2\n",
        "exer3 = sp.Eq(x**2/a**2 - y**2/b**2,1)\n",
        "result = [exer1, exer2, exer3]\n"
      ],
      "metadata": {
        "id": "YhEABkPp8TGC"
      },
      "execution_count": null,
      "outputs": []
    },
    {
      "cell_type": "code",
      "source": [
        "# result의 원소 exer과 그 순번 i를 뽑아옴\n",
        "for i, exer in enumerate(result):\n",
        "  with open(f'exer_{i}.mml', 'w') as f: # exer_i.mml 생성\n",
        "    # MathML양식 맞추기\n",
        "    f.write('<math xmlns = \"http://www.w3.org/1998/Math/MathML\">')\n",
        "    f.write(sp.mathml(exer, printer=\"presentation\")) # f에다 exer 수식 내용을 붙여넣음\n",
        "    f.write(\"</math>\")"
      ],
      "metadata": {
        "id": "QeoyD-kR0V8y"
      },
      "execution_count": null,
      "outputs": []
    }
  ]
}